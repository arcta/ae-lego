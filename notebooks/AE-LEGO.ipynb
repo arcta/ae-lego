{
 "cells": [
  {
   "cell_type": "markdown",
   "id": "3dcb5e52",
   "metadata": {},
   "source": [
    "# AE-LEGO\n",
    "This notebook defines a set of building blocks to play with and indicator-metrics.\n",
    "\n",
    "* [Dataset](#data)\n",
    "* [Models](#model)\n",
    "    * [Semantic context](#semantic) (conditional VAE)\n",
    "    * [Auto-Encoder](#ae)\n",
    "    * [Vanilla VAE](#vae)\n",
    "    * [Discrete VAE](#dvae)\n",
    "    * [Fancy beasts](#beasts)\n",
    "        * [TwinVAE](#twin)\n",
    "        * [HydraVAE](#hydra)\n",
    "* [Loss Definition](#loss)\n",
    "    * [Reconstruction](#rec)\n",
    "    * [KL-diversion](#kld)\n",
    "        * [VAE](#kld)\n",
    "        * [DVAE](#kld-dvae)\n",
    "    * [Helper terms](#helpers)\n",
    "        * [Contrast metric](#contrast)\n",
    "        * [Semantic align](#align)\n",
    "        * [Temperature](#tau)\n",
    "        "
   ]
  },
  {
   "cell_type": "code",
   "execution_count": 1,
   "id": "91cf6f1a",
   "metadata": {
    "execution": {
     "iopub.execute_input": "2023-09-23T08:02:16.210679Z",
     "iopub.status.busy": "2023-09-23T08:02:16.209708Z",
     "iopub.status.idle": "2023-09-23T08:02:19.147067Z",
     "shell.execute_reply": "2023-09-23T08:02:19.146011Z"
    },
    "scrolled": false
   },
   "outputs": [],
   "source": [
    "import os\n",
    "import re\n",
    "import torch\n",
    "import numpy as np\n",
    "import pandas as pd\n",
    "import torch.nn.functional as F\n",
    "\n",
    "import warnings\n",
    "warnings.filterwarnings('ignore')\n",
    "\n",
    "from PIL import Image\n",
    "from matplotlib import pyplot as plt\n",
    "from matplotlib import colormaps, ticker\n",
    "from IPython.display import SVG\n",
    "from typing import Optional\n",
    "\n",
    "from torch import nn\n",
    "from torchvision import transforms, models\n",
    "from torch.utils.data import DataLoader, Dataset\n",
    "from torch.distributions import OneHotCategorical, RelaxedOneHotCategorical\n",
    "from torchsummary import summary\n",
    "\n",
    "from torchvision.datasets import MNIST"
   ]
  },
  {
   "cell_type": "code",
   "execution_count": 2,
   "id": "81322936",
   "metadata": {
    "execution": {
     "iopub.execute_input": "2023-09-23T08:02:19.149845Z",
     "iopub.status.busy": "2023-09-23T08:02:19.149518Z",
     "iopub.status.idle": "2023-09-23T08:02:19.321544Z",
     "shell.execute_reply": "2023-09-23T08:02:19.320507Z"
    },
    "scrolled": false
   },
   "outputs": [],
   "source": [
    "from scripts.backbone import *\n",
    "from scripts.aelego import *\n",
    "from scripts.utils import *"
   ]
  },
  {
   "cell_type": "code",
   "execution_count": 3,
   "id": "4e3b58ec",
   "metadata": {
    "execution": {
     "iopub.execute_input": "2023-09-23T08:02:19.324661Z",
     "iopub.status.busy": "2023-09-23T08:02:19.324110Z",
     "iopub.status.idle": "2023-09-23T08:02:19.329742Z",
     "shell.execute_reply": "2023-09-23T08:02:19.328859Z"
    },
    "scrolled": false
   },
   "outputs": [
    {
     "name": "stdout",
     "output_type": "stream",
     "text": [
      "GPU\n"
     ]
    }
   ],
   "source": [
    "torch.cuda.empty_cache()\n",
    "print('GPU' if DEVICE == 'cuda' else 'no GPU')"
   ]
  },
  {
   "cell_type": "markdown",
   "id": "5235b099",
   "metadata": {},
   "source": [
    "<a name=\"data\"></a>\n",
    "\n",
    "## Dataset\n",
    "This toy example uses MNIST. We only add `transforms` to match the target resolution and to make different categoric labels for some experiments."
   ]
  },
  {
   "cell_type": "code",
   "execution_count": 4,
   "id": "d9e64ad3",
   "metadata": {
    "scrolled": false
   },
   "outputs": [
    {
     "name": "stdout",
     "output_type": "stream",
     "text": [
      "60000 10000\n"
     ]
    },
    {
     "data": {
      "text/plain": [
       "(<PIL.Image.Image image mode=L size=28x28>, 5)"
      ]
     },
     "execution_count": 4,
     "metadata": {},
     "output_type": "execute_result"
    }
   ],
   "source": [
    "trainset = MNIST(root='./data', train=True, download=True)\n",
    "testset  = MNIST(root='./data', train=False, download=True)\n",
    "\n",
    "print(len(trainset), len(testset))\n",
    "trainset[0]"
   ]
  },
  {
   "cell_type": "code",
   "execution_count": 5,
   "id": "6aab98e7",
   "metadata": {
    "scrolled": false
   },
   "outputs": [
    {
     "data": {
      "text/plain": [
       "(torch.Size([1, 28, 28]), torch.Size([22, 22]), 5)"
      ]
     },
     "execution_count": 5,
     "metadata": {},
     "output_type": "execute_result"
    }
   ],
   "source": [
    "IMG_SIZE = 28\n",
    "REC_SIZE = 22\n",
    "\n",
    "class AEDataset(Dataset):\n",
    "    def __init__(self, data):\n",
    "        self.data = data\n",
    "\n",
    "    def __len__(self):\n",
    "        return len(self.data)\n",
    "    \n",
    "    def __getitem__(self, idx):\n",
    "        X, Y = self.data[idx]\n",
    "        inputs = torch.Tensor(np.array(X)/255.).unsqueeze(0)\n",
    "        targets = torch.Tensor(np.array(X.resize((REC_SIZE, REC_SIZE))))\n",
    "        labels = Y\n",
    "        return inputs, targets, labels\n",
    "\n",
    "    \n",
    "X, Y, C = AEDataset(trainset)[0]\n",
    "X.shape, Y.shape, C"
   ]
  },
  {
   "cell_type": "markdown",
   "id": "d74e7b07",
   "metadata": {},
   "source": [
    "For the semantic experiments we want some different labels, let's make up some example:"
   ]
  },
  {
   "cell_type": "code",
   "execution_count": 6,
   "id": "e2869581",
   "metadata": {},
   "outputs": [],
   "source": [
    "SEMANTIC_DIM = 4\n",
    "SEMANTIC_LABELS = ['1,4,7','0,8','2,3,5','6,9'] ### artificial, but no completely senseless\n",
    "\n",
    "\n",
    "class ContextDataset(AEDataset):\n",
    "    def __getitem__(self, idx):\n",
    "        X, Y, C = super().__getitem__(idx)\n",
    "        labels = {1:0, 4:0, 7:0, 0:1, 8:1, 2:2, 3:2, 5:2, 6:3, 9:3}\n",
    "        return X, Y, labels[C]\n",
    "\n",
    "    \n",
    "dataset = ContextDataset"
   ]
  },
  {
   "cell_type": "code",
   "execution_count": 7,
   "id": "42bef668",
   "metadata": {
    "scrolled": false
   },
   "outputs": [
    {
     "data": {
      "text/plain": [
       "(torch.Size([16, 1, 28, 28]),\n",
       " torch.Size([16, 22, 22]),\n",
       " tensor([1, 3, 2, 0, 3, 2, 2, 2, 2, 0, 3, 3, 3, 2, 0, 3]))"
      ]
     },
     "execution_count": 7,
     "metadata": {},
     "output_type": "execute_result"
    }
   ],
   "source": [
    "for demo_batch in DataLoader(dataset(trainset), batch_size=16, shuffle=True):\n",
    "    X, Y, C = demo_batch\n",
    "    break\n",
    "X.shape, Y.shape, C"
   ]
  },
  {
   "cell_type": "code",
   "execution_count": 8,
   "id": "75cc3304",
   "metadata": {
    "scrolled": false
   },
   "outputs": [
    {
     "data": {
      "image/png": "[encoded data removed]",
      "text/plain": [
       "<Figure size 1000x1000 with 16 Axes>"
      ]
     },
     "metadata": {},
     "output_type": "display_data"
    },
    {
     "data": {
      "image/png": "[encoded data removed]",
      "text/plain": [
       "<Figure size 1000x1000 with 16 Axes>"
      ]
     },
     "metadata": {},
     "output_type": "display_data"
    }
   ],
   "source": [
    "show_inputs(demo_batch)\n",
    "show_targets(demo_batch)\n",
    "# test inputs\n",
    "X = X.to(DEVICE); C = C.to(DEVICE)"
   ]
  },
  {
   "cell_type": "markdown",
   "id": "79430f91",
   "metadata": {},
   "source": [
    "<a name=\"model\"></a>\n",
    "\n",
    "## Models\n",
    "For this experiments we assume that we have some visual feature extractor (backbone) and some visual decoder (like high resolution segmentation). We want to explore potential extensions with generative capabilities and maybe integration with some arbitrary semantic context. Our goal is to construct the middle part (bottleneck) which connects both and can be trained as a stand-alone model or as a part of the original one.\n",
    "\n",
    "A simple example we are going to use in this notebook comes from a shallow segmentation `unet` with standard `ResNet18` blocks and self-attention (quite an overhead for MNIST which could be handled with a couple of dense layers, we just want something more interesting here). The original system could be anything, flat-linear, CNN or ViT, the goal is to explore how the extension layers and hybrid insertions will interact, and what could be frozen after all without loosing performance.\n",
    "\n",
    "#### Encoder\n",
    "The encoder is a neural network that outputs a representation of data.\n",
    "\n",
    "In the example we've got (a shallow unet-model) the encoder outputs a list: feature-maps from all the resolution levels (skip-connections). We only interested in the last, bottom-level output which is the most \"abstract\" feature-map. Another issue with skip-connections is that information might bypass the bottleneck resulting the bottom level not being a best representation. In our case it also lacks compression."
   ]
  },
  {
   "cell_type": "code",
   "execution_count": 9,
   "id": "7d088d5c",
   "metadata": {
    "execution": {
     "iopub.execute_input": "2023-09-23T08:02:20.620431Z",
     "iopub.status.busy": "2023-09-23T08:02:20.620142Z",
     "iopub.status.idle": "2023-09-23T08:02:22.767767Z",
     "shell.execute_reply": "2023-09-23T08:02:22.766708Z"
    },
    "scrolled": false
   },
   "outputs": [
    {
     "name": "stdout",
     "output_type": "stream",
     "text": [
      "----------------------------------------------------------------\n",
      "        Layer (type)               Output Shape         Param #\n",
      "================================================================\n",
      "            Conv2d-1            [-1, 3, 28, 28]               6\n",
      "            Conv2d-2           [-1, 64, 28, 28]             128\n",
      "         GroupNorm-3           [-1, 64, 28, 28]             128\n",
      "              ReLU-4           [-1, 64, 28, 28]               0\n",
      "     SelfAttention-5           [-1, 64, 28, 28]               0\n",
      "            Conv2d-6           [-1, 64, 28, 28]             640\n",
      "         GroupNorm-7           [-1, 64, 28, 28]             128\n",
      "              GELU-8           [-1, 64, 28, 28]               0\n",
      "            Conv2d-9           [-1, 64, 28, 28]          36,928\n",
      "        GroupNorm-10           [-1, 64, 28, 28]             128\n",
      "           Conv2d-11           [-1, 64, 28, 28]             128\n",
      "        ConvBlock-12           [-1, 64, 28, 28]               0\n",
      "        MaxPool2d-13           [-1, 64, 14, 14]               0\n",
      "  DownsampleBlock-14  [[-1, 64, 14, 14], [-1, 64, 28, 28]]               0\n",
      "           Conv2d-15          [-1, 192, 14, 14]          12,480\n",
      "           Conv2d-16          [-1, 128, 14, 14]           8,320\n",
      "        GroupNorm-17          [-1, 128, 14, 14]             256\n",
      "             ReLU-18          [-1, 128, 14, 14]               0\n",
      "    SelfAttention-19          [-1, 128, 14, 14]               0\n",
      "           Conv2d-20          [-1, 128, 14, 14]          73,856\n",
      "        GroupNorm-21          [-1, 128, 14, 14]             256\n",
      "             GELU-22          [-1, 128, 14, 14]               0\n",
      "           Conv2d-23          [-1, 128, 14, 14]         147,584\n",
      "        GroupNorm-24          [-1, 128, 14, 14]             256\n",
      "           Conv2d-25          [-1, 128, 14, 14]           8,320\n",
      "        ConvBlock-26          [-1, 128, 14, 14]               0\n",
      "        MaxPool2d-27            [-1, 128, 7, 7]               0\n",
      "  DownsampleBlock-28  [[-1, 128, 7, 7], [-1, 128, 14, 14]]               0\n",
      "           Conv2d-29            [-1, 384, 7, 7]          49,536\n",
      "           Conv2d-30            [-1, 256, 7, 7]          33,024\n",
      "        GroupNorm-31            [-1, 256, 7, 7]             512\n",
      "             ReLU-32            [-1, 256, 7, 7]               0\n",
      "    SelfAttention-33            [-1, 256, 7, 7]               0\n",
      "           Conv2d-34            [-1, 256, 7, 7]         295,168\n",
      "        GroupNorm-35            [-1, 256, 7, 7]             512\n",
      "             GELU-36            [-1, 256, 7, 7]               0\n",
      "           Conv2d-37            [-1, 256, 7, 7]         590,080\n",
      "        GroupNorm-38            [-1, 256, 7, 7]             512\n",
      "           Conv2d-39            [-1, 256, 7, 7]          33,024\n",
      "        ConvBlock-40            [-1, 256, 7, 7]               0\n",
      "        MaxPool2d-41            [-1, 256, 3, 3]               0\n",
      "  DownsampleBlock-42  [[-1, 256, 3, 3], [-1, 256, 7, 7]]               0\n",
      "           Conv2d-43            [-1, 768, 3, 3]         197,376\n",
      "           Conv2d-44            [-1, 512, 3, 3]         131,584\n",
      "        GroupNorm-45            [-1, 512, 3, 3]           1,024\n",
      "             ReLU-46            [-1, 512, 3, 3]               0\n",
      "    SelfAttention-47            [-1, 512, 3, 3]               0\n",
      "           Conv2d-48            [-1, 512, 3, 3]       1,180,160\n",
      "        GroupNorm-49            [-1, 512, 3, 3]           1,024\n",
      "             GELU-50            [-1, 512, 3, 3]               0\n",
      "           Conv2d-51            [-1, 512, 3, 3]       2,359,808\n",
      "        GroupNorm-52            [-1, 512, 3, 3]           1,024\n",
      "           Conv2d-53            [-1, 512, 3, 3]         131,584\n",
      "        ConvBlock-54            [-1, 512, 3, 3]               0\n",
      "        MaxPool2d-55            [-1, 512, 1, 1]               0\n",
      "  DownsampleBlock-56  [[-1, 512, 1, 1], [-1, 512, 3, 3]]               0\n",
      "================================================================\n",
      "Total params: 5,295,494\n",
      "Trainable params: 5,295,494\n",
      "Non-trainable params: 0\n",
      "----------------------------------------------------------------\n",
      "Input size (MB): 0.00\n",
      "Forward/backward pass size (MB): 6232.58\n",
      "Params size (MB): 20.20\n",
      "Estimated Total Size (MB): 6252.78\n",
      "----------------------------------------------------------------\n"
     ]
    }
   ],
   "source": [
    "encoder = get_encoder(pretrained=False, frozen=False)\n",
    "summary(encoder, (1, IMG_SIZE, IMG_SIZE))"
   ]
  },
  {
   "cell_type": "code",
   "execution_count": 10,
   "id": "2b49a579",
   "metadata": {},
   "outputs": [
    {
     "name": "stdout",
     "output_type": "stream",
     "text": [
      "torch.Size([16, 64, 28, 28])\n",
      "torch.Size([16, 128, 14, 14])\n",
      "torch.Size([16, 256, 7, 7])\n",
      "torch.Size([16, 512, 3, 3])\n"
     ]
    }
   ],
   "source": [
    "# let's see the output produced for the MNIST data input\n",
    "for output in encoder(X):\n",
    "    print(output.shape)"
   ]
  },
  {
   "cell_type": "markdown",
   "id": "136dcdfa",
   "metadata": {},
   "source": [
    "#### Decoder\n",
    "The decoder takes representation and reconstructs the input.\n",
    "\n",
    "In the example we've got `unet-decoder` takes the list of feature-maps and outputs the set of segmentation masks (class-channels). We need all the information at the bottleneck: our `unet` example model has training option `bridge=False` (no skip-connections) that's the setting we will use for our extension training."
   ]
  },
  {
   "cell_type": "code",
   "execution_count": 11,
   "id": "e8cc6411",
   "metadata": {
    "execution": {
     "iopub.execute_input": "2023-09-23T08:02:22.794186Z",
     "iopub.status.busy": "2023-09-23T08:02:22.793933Z",
     "iopub.status.idle": "2023-09-23T08:02:22.804503Z",
     "shell.execute_reply": "2023-09-23T08:02:22.803398Z"
    },
    "scrolled": false
   },
   "outputs": [
    {
     "name": "stdout",
     "output_type": "stream",
     "text": [
      "----------------------------------------------------------------\n",
      "        Layer (type)               Output Shape         Param #\n",
      "================================================================\n",
      "   ConvTranspose2d-1            [-1, 256, 8, 8]       2,097,408\n",
      "            Conv2d-2            [-1, 768, 8, 8]         197,376\n",
      "            Conv2d-3            [-1, 256, 8, 8]          65,792\n",
      "         GroupNorm-4            [-1, 256, 8, 8]             512\n",
      "              ReLU-5            [-1, 256, 8, 8]               0\n",
      "     SelfAttention-6            [-1, 256, 8, 8]               0\n",
      "            Conv2d-7            [-1, 256, 8, 8]         590,080\n",
      "         GroupNorm-8            [-1, 256, 8, 8]             512\n",
      "              GELU-9            [-1, 256, 8, 8]               0\n",
      "           Conv2d-10            [-1, 256, 8, 8]         590,080\n",
      "        GroupNorm-11            [-1, 256, 8, 8]             512\n",
      "           Conv2d-12            [-1, 256, 8, 8]          65,792\n",
      "        ConvBlock-13            [-1, 256, 8, 8]               0\n",
      "  ConvTranspose2d-14          [-1, 128, 18, 18]         524,416\n",
      "           Conv2d-15          [-1, 384, 18, 18]          49,536\n",
      "           Conv2d-16          [-1, 128, 18, 18]          16,512\n",
      "        GroupNorm-17          [-1, 128, 18, 18]             256\n",
      "             ReLU-18          [-1, 128, 18, 18]               0\n",
      "    SelfAttention-19          [-1, 128, 18, 18]               0\n",
      "           Conv2d-20          [-1, 128, 18, 18]         147,584\n",
      "        GroupNorm-21          [-1, 128, 18, 18]             256\n",
      "             GELU-22          [-1, 128, 18, 18]               0\n",
      "           Conv2d-23          [-1, 128, 18, 18]         147,584\n",
      "        GroupNorm-24          [-1, 128, 18, 18]             256\n",
      "           Conv2d-25          [-1, 128, 18, 18]          16,512\n",
      "        ConvBlock-26          [-1, 128, 18, 18]               0\n",
      "  ConvTranspose2d-27           [-1, 64, 38, 38]         131,136\n",
      "           Conv2d-28          [-1, 192, 38, 38]          12,480\n",
      "           Conv2d-29           [-1, 64, 38, 38]           4,160\n",
      "        GroupNorm-30           [-1, 64, 38, 38]             128\n",
      "             ReLU-31           [-1, 64, 38, 38]               0\n",
      "    SelfAttention-32           [-1, 64, 38, 38]               0\n",
      "           Conv2d-33           [-1, 64, 38, 38]          36,928\n",
      "        GroupNorm-34           [-1, 64, 38, 38]             128\n",
      "             GELU-35           [-1, 64, 38, 38]               0\n",
      "           Conv2d-36           [-1, 64, 38, 38]          36,928\n",
      "        GroupNorm-37           [-1, 64, 38, 38]             128\n",
      "           Conv2d-38           [-1, 64, 38, 38]           4,160\n",
      "        ConvBlock-39           [-1, 64, 38, 38]               0\n",
      "           Conv2d-40            [-1, 1, 38, 38]              65\n",
      "================================================================\n",
      "Total params: 4,737,217\n",
      "Trainable params: 4,737,217\n",
      "Non-trainable params: 0\n",
      "----------------------------------------------------------------\n",
      "Input size (MB): 0.02\n",
      "Forward/backward pass size (MB): 17.21\n",
      "Params size (MB): 18.07\n",
      "Estimated Total Size (MB): 35.30\n",
      "----------------------------------------------------------------\n"
     ]
    }
   ],
   "source": [
    "decoder = get_decoder()\n",
    "summary(decoder, [(512, 3, 3)])"
   ]
  },
  {
   "cell_type": "code",
   "execution_count": 12,
   "id": "321e7feb",
   "metadata": {},
   "outputs": [
    {
     "data": {
      "text/plain": [
       "torch.Size([16, 1, 38, 38])"
      ]
     },
     "execution_count": 12,
     "metadata": {},
     "output_type": "execute_result"
    }
   ],
   "source": [
    "decoder(output).shape"
   ]
  },
  {
   "cell_type": "markdown",
   "id": "de4bc39f",
   "metadata": {},
   "source": [
    "<a name=\"semantic\"></a>\n",
    "\n",
    "### Semantic context\n",
    "\n",
    "We want to explore the situations when some semantic vector could be present and injected to instruct the model. We consider any combination: same or different semantic capacity for the encoder and decoder. We consider the arbitrary floating point semantic vector. It could be a `relaxed` one-hot representation of some label or anything at all. We can use the labels from the data. Above we made some up:"
   ]
  },
  {
   "cell_type": "code",
   "execution_count": 13,
   "id": "d54897cf",
   "metadata": {
    "scrolled": false
   },
   "outputs": [
    {
     "data": {
      "text/plain": [
       "4"
      ]
     },
     "execution_count": 13,
     "metadata": {},
     "output_type": "execute_result"
    }
   ],
   "source": [
    "SEMANTIC_DIM"
   ]
  },
  {
   "cell_type": "markdown",
   "id": "5a1182dc",
   "metadata": {},
   "source": [
    "This is somewhat different from a vanilla conditional VAE which is supervised deterministic model and assumes a fixed set of the categories we are committed to. Our setup assumes a presence of a noisy signal which might interact and even conflict with our \"current perception\".\n",
    "\n",
    "<a name=\"ae\"></a>\n",
    "\n",
    "### Auto-Encoder\n",
    "We've got encoder and decoder, we need a layer (bottleneck) to produce compressed representation (our backbone returns `-1, 512, 3, 3` at its bottom level) and a layer to inject some optional semantic context (condition)."
   ]
  },
  {
   "cell_type": "code",
   "execution_count": 14,
   "id": "fda4cc78",
   "metadata": {},
   "outputs": [],
   "source": [
    "# to avoid distraction and to point that it belongs to an `adapter` layer\n",
    "LOCAL = 512"
   ]
  },
  {
   "cell_type": "code",
   "execution_count": 15,
   "id": "0dc2189f",
   "metadata": {
    "scrolled": false
   },
   "outputs": [
    {
     "data": {
      "image/svg+xml": [
       "<svg xmlns=\"http://www.w3.org/2000/svg\" width=\"900\" height=\"220\" version=\"1.1\">\n",
       "<defs>\n",
       "  <linearGradient id=\"flow\" x1=\"0\" x2=\"1\" y1=\"0\" y2=\"0\">\n",
       "    <stop offset=\"0%\" stop-color=\"white\"/>\n",
       "    <stop offset=\"50%\" stop-color=\"#44f\"/>\n",
       "    <stop offset=\"100%\" stop-color=\"white\"/>\n",
       "  </linearGradient>\n",
       "  <linearGradient id=\"context\" x1=\"0\" x2=\"0\" y1=\"0\" y2=\"1\">\n",
       "    <stop offset=\"0%\" stop-color=\"aquamarine\" stop-opacity=\"0\"/>\n",
       "    <stop offset=\"100%\" stop-color=\"aquamarine\" stop-opacity=\"1\"/>\n",
       "  </linearGradient>\n",
       "  <linearGradient id=\"encoder\" x1=\"0\" x2=\"1\" y1=\"0\" y2=\"0\">\n",
       "    <stop offset=\"0%\" stop-color=\"#abc\"/>\n",
       "    <stop offset=\"100%\" stop-color=\"#88f\"/>\n",
       "  </linearGradient>\n",
       "  <linearGradient id=\"decoder\" x1=\"0\" x2=\"1\" y1=\"0\" y2=\"0\">\n",
       "    <stop offset=\"0%\" stop-color=\"#88f\"/>\n",
       "    <stop offset=\"100%\" stop-color=\"#abc\"/>\n",
       "  </linearGradient>\n",
       "</defs>\n",
       "<g transform=\"translate(45,100) scale(0.8)\" style=\"font-family:sans-serif\">    \n",
       "<g transform=\"translate(40,0)\">\n",
       "    <rect x=\"0\" y=\"-50\" width=\"350\" height=\"100\" fill=\"url(#flow)\" fill-opacity=\"0.25\" stroke=\"none\"/>\n",
       "    <path fill=\"none\" stroke=\"url(#encoder)\" stroke-width=\"5\" d=\"M0,-100 L110,-50 L110,50 L0,100 Z\"/>\n",
       "    <text x=\"60\" y=\"4\" text-anchor=\"middle\">Encoder</text>\n",
       "</g>\n",
       "<g transform=\"translate(50,0)\">\n",
       "    <rect x=\"125\" y=\"-60\" width=\"20\" height=\"140\" fill=\"url(#context)\" stroke=\"none\"/>\n",
       "    <path stroke=\"teal\" stroke-width=\"110\" stroke-dasharray=\"2,2\" d=\"M130,0 L140,0\"/>\n",
       "    <text text-anchor=\"middle\" transform=\"translate(120,0) rotate(-90)\">neck</text>\n",
       "    <text x=\"135\" y=\"95\" text-anchor=\"middle\">context</text>\n",
       "</g>  \n",
       "<g transform=\"translate(210,0)\">\n",
       "    <path stroke=\"#88f\" stroke-width=\"16\" d=\"M10,-50 L10,50\"/>\n",
       "    <text x=\"10\" y=\"-55\" text-anchor=\"middle\">h</text>\n",
       "</g>\n",
       "<g transform=\"translate(280,0)\">\n",
       "    <path fill=\"none\" stroke=\"url(#decoder)\" stroke-width=\"5\" d=\"M10,-50 L120,-100 L120,100 L10,50 Z\"/>\n",
       "    <text x=\"60\" y=\"4\" text-anchor=\"middle\">Decoder</text>\n",
       "</g>\n",
       "<g transform=\"translate(270,0)\">\n",
       "    <rect x=\"-25\" y=\"-60\" width=\"20\" height=\"140\" fill=\"url(#context)\" stroke=\"none\"/>\n",
       "    <path stroke=\"teal\" stroke-width=\"110\" stroke-dasharray=\"2,2\" d=\"M-20,0 L-10,0\"/>\n",
       "    <text text-anchor=\"middle\" transform=\"translate(0,0) rotate(90)\">condition</text>\n",
       "</g>\n",
       "</g>    \n",
       "</svg>"
      ],
      "text/plain": [
       "<IPython.core.display.SVG object>"
      ]
     },
     "execution_count": 15,
     "metadata": {},
     "output_type": "execute_result"
    }
   ],
   "source": [
    "SVG('assets/ae.svg')"
   ]
  },
  {
   "cell_type": "code",
   "execution_count": 16,
   "id": "e390b0fc",
   "metadata": {
    "scrolled": false
   },
   "outputs": [
    {
     "data": {
      "text/plain": [
       "torch.Size([16, 256])"
      ]
     },
     "execution_count": 16,
     "metadata": {},
     "output_type": "execute_result"
    }
   ],
   "source": [
    "class Neck(nn.Module):\n",
    "    \"\"\"\n",
    "    Takes our original encoder input and optional semantic context vector\n",
    "    and converts them to a vector of a target latent space size\n",
    "    \n",
    "    We intentianally create a separate projection for the context injection:\n",
    "    direct access to that leyer cold be useful for some other modules in the system or diagnostics\n",
    "    \"\"\"\n",
    "    def __init__(self, hidden_dim: int, semantic_dim: int = 0):\n",
    "        super().__init__()\n",
    "        self.semantic_dim = semantic_dim\n",
    "        # adapt our specific encoder output\n",
    "        self.adapter = nn.Sequential(nn.AdaptiveAvgPool2d((1, 1)), nn.Flatten(start_dim = 1))\n",
    "        # inject context if present\n",
    "        self.context_projection = nn.Sequential(nn.Linear(semantic_dim + LOCAL, LOCAL), nn.ReLU())\n",
    "        # compress to target latent space dim\n",
    "        self.latent_projection = nn.Linear(LOCAL, hidden_dim)\n",
    "        \n",
    "    def forward(self, x, context: Optional[Tensor] = None):\n",
    "        h = self.adapter(x[-1])\n",
    "        if self.semantic_dim > 0 and not context is None:\n",
    "            h = self.context_projection(torch.cat((h, context), 1))\n",
    "        return self.latent_projection(h)\n",
    "\n",
    "\n",
    "# check with our encoder output\n",
    "output = encoder(X)\n",
    "# make a Neck with 256 target latent-dim and 4 semantic channel capacity\n",
    "Neck(256, 4).to(DEVICE)(output, torch.rand(X.size(0), 4).to(DEVICE)).shape"
   ]
  },
  {
   "cell_type": "markdown",
   "id": "0378cbad",
   "metadata": {},
   "source": [
    "Our first basic block is a vanilla auto-encoder. It does not have generative power and quite useless for any semantic context, however, it is easy to train and we keep it for diagnostics at least."
   ]
  },
  {
   "cell_type": "code",
   "execution_count": 17,
   "id": "a7713e64",
   "metadata": {
    "execution": {
     "iopub.execute_input": "2023-09-23T08:02:22.819161Z",
     "iopub.status.busy": "2023-09-23T08:02:22.818834Z",
     "iopub.status.idle": "2023-09-23T08:02:22.827346Z",
     "shell.execute_reply": "2023-09-23T08:02:22.826137Z"
    },
    "scrolled": false
   },
   "outputs": [
    {
     "data": {
      "image/png": "[encoded data removed]",
      "text/plain": [
       "<Figure size 1000x1000 with 16 Axes>"
      ]
     },
     "metadata": {},
     "output_type": "display_data"
    }
   ],
   "source": [
    "class AutoEncoder(nn.Module):\n",
    "    \"\"\"\n",
    "    Takes our existing encoder and decoder and connects them\n",
    "    via Neck module disabled semantic channel: all inputs except of visual are simply ignored\n",
    "    \"\"\"\n",
    "    def __init__(self, encoder: nn.Module, decoder: nn.Module):\n",
    "        super().__init__()\n",
    "        self.encoder = encoder\n",
    "        self.decoder = decoder\n",
    "        self.neck = Neck(LOCAL)\n",
    "        \n",
    "    def encode(self, x):\n",
    "        return self.neck(self.encoder(x))\n",
    "    \n",
    "    def forward(self, x, **kwargs):\n",
    "        h = self.encode(x)\n",
    "        return self.decoder(h.view(*h.size(), 1, 1))\n",
    "    \n",
    "\n",
    "model = AutoEncoder(encoder, decoder).to(DEVICE)\n",
    "show_model_output(model, demo_batch, tag='output')"
   ]
  },
  {
   "cell_type": "markdown",
   "id": "c78a0440",
   "metadata": {},
   "source": [
    "<a name=\"vae\"></a>\n",
    "\n",
    "### Variational Auto-Encoder\n",
    "VAE is a probabilistic generative model, it learns the data distribution (likelihood) which allows the trained model generate new data similar to the original: very useful if we need to build the system with `imagination` and `anomaly detection` capabilities. It could be trained in either `unsupervised` or any other setting.\n",
    "\n",
    "The latent space $z$ is modeled as Gaussian mixture via [reparameterization trick](https://arxiv.org/abs/1809.10330).\n",
    "\n",
    "Our next basic block is a VAE model with optional potentially noisy semantic channel."
   ]
  },
  {
   "cell_type": "code",
   "execution_count": 18,
   "id": "a59b085b",
   "metadata": {
    "scrolled": false
   },
   "outputs": [],
   "source": [
    "# pick our target latent dim.\n",
    "LATENT_DIM = 8"
   ]
  },
  {
   "cell_type": "code",
   "execution_count": 19,
   "id": "69fa4087",
   "metadata": {
    "scrolled": false
   },
   "outputs": [
    {
     "data": {
      "image/svg+xml": [
       "<svg xmlns=\"http://www.w3.org/2000/svg\" width=\"900\" height=\"220\" version=\"1.1\">\n",
       "<defs>\n",
       "  <linearGradient id=\"encoder\" x1=\"0\" x2=\"1\" y1=\"0\" y2=\"0\">\n",
       "    <stop offset=\"0%\" stop-color=\"#abc\"/>\n",
       "    <stop offset=\"100%\" stop-color=\"#88f\"/>\n",
       "  </linearGradient>\n",
       "  <linearGradient id=\"decoder\" x1=\"0\" x2=\"1\" y1=\"0\" y2=\"0\">\n",
       "    <stop offset=\"0%\" stop-color=\"#88f\"/>\n",
       "    <stop offset=\"100%\" stop-color=\"#abc\"/>\n",
       "  </linearGradient>\n",
       "  <linearGradient id=\"dist\" x1=\"0\" x2=\"1\" y1=\"0\" y2=\"1\">\n",
       "    <stop offset=\"10%\" stop-color=\"cyan\"/>\n",
       "    <stop offset=\"100%\" stop-color=\"magenta\"/>\n",
       "  </linearGradient>\n",
       "  <linearGradient id=\"sigma\" x1=\"0\" x2=\"1\" y1=\"0\" y2=\"0\">\n",
       "    <stop offset=\"0%\" stop-color=\"cyan\"/>\n",
       "    <stop offset=\"80%\" stop-color=\"#88f\"/>\n",
       "  </linearGradient>\n",
       "  <linearGradient id=\"mu\" x1=\"0\" x2=\"1\" y1=\"0\" y2=\"0\">\n",
       "    <stop offset=\"0%\" stop-color=\"magenta\"/>\n",
       "    <stop offset=\"90%\" stop-color=\"#88f\"/>\n",
       "  </linearGradient>\n",
       "  <radialGradient id=\"z\" cx=\"50%\" cy=\"50%\" r=\"50%\" fx=\"50%\" fy=\"50%\">\n",
       "    <stop offset=\"0%\" stop-color=\"magenta\" stop-opacity=\"0.8\"/>\n",
       "    <stop offset=\"100%\" stop-color=\"cyan\" stop-opacity=\"0\"/>\n",
       "  </radialGradient>\n",
       "</defs>\n",
       "<g transform=\"translate(0,100) scale(0.8)\" style=\"font-family:sans-serif\">\n",
       "<g transform=\"translate(170,0)\">\n",
       "    <rect x=\"25\" y=\"-50\" width=\"80\" height=\"100\" fill=\"url(#dist)\" stroke=\"none\"/>\n",
       "    <path fill=\"none\" stroke=\"white\" stroke-width=\"100\" stroke-dasharray=\"1,4\" d=\"M24,0 L110,0\"/>\n",
       "    <text x=\"64\" y=\"-55\" text-anchor=\"middle\">- latent dim -</text>\n",
       "</g>  \n",
       "<g transform=\"translate(290,0)\">\n",
       "    <circle cx=\"0\" cy=\"0\" r=\"100\" fill=\"url(#z)\"/>\n",
       "    <text x=\"18\" y=\"5\" text-anchor=\"middle\" style=\"font-size:1.5em\" fill=\"white\">μ, σ</text>\n",
       "</g>\n",
       "<g transform=\"translate(60,0)\">\n",
       "    <path fill=\"none\" stroke=\"url(#encoder)\" stroke-width=\"5\" d=\"M0,-100 L120,-50 L120,50 L0,100 Z\"/>\n",
       "    <text x=\"60\" y=\"4\" text-anchor=\"middle\">Encoder</text>\n",
       "</g>\n",
       "<g transform=\"translate(370,0)\">\n",
       "    <rect x=\"-55\" y=\"-22\" width=\"50\" height=\"4\" fill=\"url(#sigma)\" stroke=\"none\"/>\n",
       "    <circle cx=\"-50\" cy=\"-20\" r=\"5\" fill=\"cyan\"/>\n",
       "    <rect x=\"-65\" y=\"18\" width=\"60\" height=\"4\" fill=\"url(#mu)\" stroke=\"none\"/>\n",
       "    <circle cx=\"-70\" cy=\"20\" r=\"5\" fill=\"magenta\"/>\n",
       "    <path stroke=\"#88f\" stroke-width=\"16\" d=\"M0,-50 L0,50\"/>\n",
       "    <text x=\"0\" y=\"-55\" text-anchor=\"middle\">z</text>\n",
       "</g>\n",
       "<g transform=\"translate(392,0)\">\n",
       "    <path fill=\"none\" stroke=\"url(#decoder)\" stroke-width=\"5\" d=\"M0,-50 L120,-100 L120,100 L0,50 Z\"/>\n",
       "    <text x=\"60\" y=\"4\" text-anchor=\"middle\">Decoder</text>\n",
       "</g>\n",
       "</g>    \n",
       "</svg>"
      ],
      "text/plain": [
       "<IPython.core.display.SVG object>"
      ]
     },
     "execution_count": 19,
     "metadata": {},
     "output_type": "execute_result"
    }
   ],
   "source": [
    "SVG('assets/vae.svg')"
   ]
  },
  {
   "cell_type": "code",
   "execution_count": 20,
   "id": "26de1f0c",
   "metadata": {
    "scrolled": false
   },
   "outputs": [
    {
     "data": {
      "text/plain": [
       "torch.Size([16, 8])"
      ]
     },
     "execution_count": 20,
     "metadata": {},
     "output_type": "execute_result"
    }
   ],
   "source": [
    "class ZEncoder(nn.Module):\n",
    "    \"\"\"\n",
    "    Enhance our existing encoder with a sense of proper data distribution\n",
    "    and allow some optional semantic channel interact with it\n",
    "    \"\"\"\n",
    "    def __init__(self, encoder: nn.Module, latent_dim: int, semantic_dim: int = 0):\n",
    "        super().__init__()\n",
    "        self.latent_dim = latent_dim\n",
    "        self.semantic_dim = semantic_dim\n",
    "        self.encoder = encoder\n",
    "        self.neck = Neck(LOCAL, semantic_dim)\n",
    "        # reparametrization layers\n",
    "        self.mean = nn.Linear(LOCAL, latent_dim)\n",
    "        self.logvar = nn.Linear(LOCAL, latent_dim)\n",
    "        \n",
    "    def encode(self, x, context: Optional[Tensor] = None):\n",
    "        return self.neck(self.encoder(x), context)\n",
    "\n",
    "    def projection(self, x):\n",
    "        return self.mean(x), self.logvar(x)\n",
    "\n",
    "    def reparameterize(self, mean, logvar):\n",
    "        std = torch.exp(0.5 * logvar)\n",
    "        eps = torch.randn_like(std)\n",
    "        return mean + eps * std\n",
    "    \n",
    "    def forward(self, x, context: Optional[Tensor] = None):\n",
    "        h = self.encode(x, context)\n",
    "        mean, logvar = self.projection(h)\n",
    "        z = self.reparameterize(mean, logvar)\n",
    "        return z, mean, logvar\n",
    "    \n",
    "\n",
    "# try with our demo-input\n",
    "Z = ZEncoder(encoder, LATENT_DIM).to(DEVICE)(X)[0]\n",
    "Z.shape"
   ]
  },
  {
   "cell_type": "markdown",
   "id": "3e309008",
   "metadata": {},
   "source": [
    "<a name=\"condition\"></a>\n",
    "\n",
    "Our VAE encoder can handle `semantic channel`, so, we should construct the layer for `semantic injection` instructing a VAE decoder as well."
   ]
  },
  {
   "cell_type": "code",
   "execution_count": 21,
   "id": "01aad2f9",
   "metadata": {},
   "outputs": [],
   "source": [
    "class Condition(nn.Module):\n",
    "    \"\"\"\n",
    "    Takes latent representation input and optional semantic context vector\n",
    "    and converts them to a decoder input\n",
    "    \n",
    "    Conceptually the same as Neck: a separate projection for the context injection to provide\n",
    "    direct access to that leyer will be useful for state diagnostics during the training\n",
    "    \"\"\"\n",
    "    def __init__(self, input_dim: int, output_dim: int, semantic_dim: int = 0):\n",
    "        super().__init__()\n",
    "        self.semantic_dim = semantic_dim\n",
    "        # inject context if any\n",
    "        self.context_projection = nn.Linear(semantic_dim + input_dim, input_dim)\n",
    "        # adjust to the required output format\n",
    "        self.output_projection = nn.Sequential(nn.Linear(input_dim, output_dim), nn.ReLU())\n",
    "        \n",
    "    def forward(self, z, context: Optional[Tensor] = None):\n",
    "        if self.semantic_dim > 0 and not context is None:\n",
    "            z = self.context_projection(torch.cat((z, context), 1))\n",
    "        # return conditioned latent representation along with adjusted output for diagnostics\n",
    "        return self.output_projection(z), z\n",
    "    "
   ]
  },
  {
   "cell_type": "markdown",
   "id": "a539d94e",
   "metadata": {},
   "source": [
    "<a name=\"zdecoder\"></a>"
   ]
  },
  {
   "cell_type": "code",
   "execution_count": 22,
   "id": "846a7908",
   "metadata": {
    "scrolled": false
   },
   "outputs": [
    {
     "name": "stdout",
     "output_type": "stream",
     "text": [
      "torch.Size([16, 1, 22, 22])\n",
      "torch.Size([16, 8])\n"
     ]
    }
   ],
   "source": [
    "class ZDecoder(nn.Module):\n",
    "    \"\"\"\n",
    "    Enhance our existing decoder with ability to translate\n",
    "    conditional latent representation into its native input\n",
    "    \"\"\"\n",
    "    def __init__(self, decoder: nn.Module, latent_dim: int, semantic_dim: int = 0):\n",
    "        super().__init__()\n",
    "        self.latent_dim = latent_dim\n",
    "        self.semantic_dim = semantic_dim\n",
    "        self.decoder = decoder\n",
    "        # make a conditional adapter to our encoder and decoder heads\n",
    "        self.condition = Condition(latent_dim, LOCAL, semantic_dim)\n",
    "    \n",
    "    def forward(self, z, context: Optional[Tensor] = None):\n",
    "        h, s = self.condition(z, context)\n",
    "        h = h.view(h.size(0), LOCAL, 1, 1)\n",
    "        return self.decoder(h), s\n",
    "\n",
    "\n",
    "# try with our demo-input and no semantics\n",
    "Z = ZEncoder(encoder, LATENT_DIM).to(DEVICE)(X)[0]\n",
    "for output in ZDecoder(decoder, LATENT_DIM, SEMANTIC_DIM).to(DEVICE)(Z):\n",
    "    print(output.shape)"
   ]
  },
  {
   "cell_type": "code",
   "execution_count": 23,
   "id": "f871bffc",
   "metadata": {},
   "outputs": [
    {
     "name": "stdout",
     "output_type": "stream",
     "text": [
      "torch.Size([16, 1, 22, 22])\n",
      "torch.Size([16, 8])\n"
     ]
    }
   ],
   "source": [
    "# make up some dummy semantic vector\n",
    "S = torch.rand(Z.size(0), SEMANTIC_DIM).to(DEVICE)\n",
    "for output in ZDecoder(decoder, LATENT_DIM, SEMANTIC_DIM).to(DEVICE)(Z, S):\n",
    "    print(output.shape)"
   ]
  },
  {
   "cell_type": "code",
   "execution_count": 24,
   "id": "6509574b",
   "metadata": {
    "scrolled": false
   },
   "outputs": [
    {
     "name": "stdout",
     "output_type": "stream",
     "text": [
      "torch.Size([16, 1, 22, 22])\n",
      "torch.Size([16, 8])\n",
      "torch.Size([16, 8])\n",
      "torch.Size([16, 8])\n",
      "torch.Size([1])\n",
      "torch.Size([16, 8])\n"
     ]
    }
   ],
   "source": [
    "class VAE(nn.Module):\n",
    "    \"\"\"\n",
    "    Take our existing encoder and decoder and build VAE connector\n",
    "    with optional noisy semantic channel\n",
    "    \"\"\"\n",
    "    def __init__(self, encoder: nn.Module, decoder: nn.Module,\n",
    "                 latent_dim: int, encoder_semantic_dim: int = 0, decoder_semantic_dim: int = 0,\n",
    "                 tau: float = 0.):\n",
    "        super().__init__()\n",
    "        self.latent_dim = latent_dim\n",
    "        # adjust encoder and decoder\n",
    "        self.encoder = ZEncoder(encoder, latent_dim, encoder_semantic_dim)\n",
    "        self.decoder = ZDecoder(decoder, latent_dim, decoder_semantic_dim)\n",
    "        # make noise balansing parameter for semantic channels\n",
    "        self.tau = nn.Parameter(torch.tensor([tau]))\n",
    "        # tag output for local convenience\n",
    "        self.keys = ['rec-VAE','z','mean','log-variance','tau','z-context']\n",
    "        \n",
    "    @staticmethod\n",
    "    def translate(semantic_dim, context, temperature):\n",
    "        \"\"\"\n",
    "        for different scenarios:\n",
    "        unsupervised arbitrary floating point semantic vector goes as is\n",
    "        while labels need encoding, and maybe noise if semantic channel set to be noisy\n",
    "        \"\"\"\n",
    "        if semantic_dim == 0:\n",
    "            return None\n",
    "        if context is None or torch.is_floating_point(context):\n",
    "            return context\n",
    "        context = F.one_hot(context, num_classes=semantic_dim).float().to(DEVICE)\n",
    "        if temperature is not None:\n",
    "            context += torch.rand(*context.size()).to(DEVICE) * temperature * 0.25\n",
    "        return context\n",
    "            \n",
    "    def forward(self, x, context: Optional[Tensor] = None, temperature: Optional[float] = None):\n",
    "        if temperature is None:\n",
    "            temperature = torch.exp(self.tau)\n",
    "        # representation and dist-params\n",
    "        z, mean, logvar = self.encoder(x, self.translate(self.encoder.semantic_dim, context, temperature))\n",
    "        # reconstruction and its source conditioned representation\n",
    "        rec, zcontext = self.decoder(z, self.translate(self.decoder.semantic_dim, context, temperature))\n",
    "        return rec, z, mean, logvar, self.tau, zcontext\n",
    "    \n",
    "    @torch.no_grad()\n",
    "    def sample(self, num_samples, context: Optional[Tensor] = None, temperature: Optional[float] = 1.):\n",
    "        if self.decoder.semantic_dim == 0:\n",
    "            context = None\n",
    "        if type(context) == int:\n",
    "            # convert single int data label to labels num_samples batch\n",
    "            context = (torch.ones(num_samples) * context).long().to(DEVICE)\n",
    "        # translate context as model semantics state (temperature None)\n",
    "        context = self.translate(self.decoder.semantic_dim, context, None)\n",
    "        # generate noise with temperature\n",
    "        z = torch.randn(num_samples, self.latent_dim).to(DEVICE) * temperature\n",
    "        return self.decoder(z, context)[0]\n",
    "\n",
    "\n",
    "model = VAE(encoder, decoder, LATENT_DIM, SEMANTIC_DIM, SEMANTIC_DIM).to(DEVICE)\n",
    "for output in model(X, context=S, temperature=2.): print(output.size())"
   ]
  },
  {
   "cell_type": "code",
   "execution_count": 25,
   "id": "6bc8df0f",
   "metadata": {
    "scrolled": false
   },
   "outputs": [
    {
     "data": {
      "text/plain": [
       "torch.Size([10, 1, 22, 22])"
      ]
     },
     "execution_count": 25,
     "metadata": {},
     "output_type": "execute_result"
    }
   ],
   "source": [
    "label = np.random.randint(SEMANTIC_DIM)\n",
    "model.sample(10, label).shape"
   ]
  },
  {
   "cell_type": "markdown",
   "id": "eabb21d5",
   "metadata": {},
   "source": [
    "<a name=\"dvae\"></a>\n",
    "\n",
    "### Discrete / Categorical VAE\n",
    "VAE has blurry vision due to the requirement of a Gaussian prior. We can quantize the latent space using a set of vectors (codebook), and we can model the posterior as well. DVAE can handle categorical distributions and more expressive in general. On the training side tricks are still involved ([Gumbel relaxation](https://openreview.net/pdf?id=rkE3y85ee)).\n",
    "\n",
    "Our next basic block is a DVAE model with optional potentially noisy semantic channel."
   ]
  },
  {
   "cell_type": "code",
   "execution_count": 26,
   "id": "b7fabb96",
   "metadata": {
    "scrolled": false
   },
   "outputs": [],
   "source": [
    "# codebook dimension\n",
    "CATEGORICAL_DIM = 10"
   ]
  },
  {
   "cell_type": "code",
   "execution_count": 27,
   "id": "759bc43d",
   "metadata": {
    "scrolled": false
   },
   "outputs": [
    {
     "data": {
      "image/svg+xml": [
       "<svg xmlns=\"http://www.w3.org/2000/svg\" width=\"900\" height=\"220\" version=\"1.1\">\n",
       "<defs>\n",
       "  <linearGradient id=\"encoder\" x1=\"0\" x2=\"1\" y1=\"0\" y2=\"0\">\n",
       "    <stop offset=\"0%\" stop-color=\"#abc\"/>\n",
       "    <stop offset=\"100%\" stop-color=\"#88f\"/>\n",
       "  </linearGradient>\n",
       "  <linearGradient id=\"decoder\" x1=\"0\" x2=\"1\" y1=\"0\" y2=\"0\">\n",
       "    <stop offset=\"0%\" stop-color=\"#88f\"/>\n",
       "    <stop offset=\"100%\" stop-color=\"#abc\"/>\n",
       "  </linearGradient>\n",
       "  <linearGradient id=\"rainbow\" x1=\"0\" x2=\"0\" y1=\"0\" y2=\"1\">\n",
       "    <stop offset=\"5%\" stop-color=\"red\"/>\n",
       "    <stop offset=\"20%\" stop-color=\"orange\"/>\n",
       "    <stop offset=\"35%\" stop-color=\"gold\"/>\n",
       "    <stop offset=\"50%\" stop-color=\"green\"/>\n",
       "    <stop offset=\"65%\" stop-color=\"cyan\"/>\n",
       "    <stop offset=\"80%\" stop-color=\"blue\"/>\n",
       "    <stop offset=\"95%\" stop-color=\"purple\"/>\n",
       "  </linearGradient>\n",
       "  <linearGradient id=\"cat\" x1=\"0\" x2=\"0\" y1=\"0\" y2=\"1\">\n",
       "    <stop offset=\"0%\" stop-color=\"magenta\"/>\n",
       "    <stop offset=\"80%\" stop-color=\"cyan\"/>\n",
       "  </linearGradient>\n",
       "  <linearGradient id=\"tau\" x1=\"0\" x2=\"0\" y1=\"0\" y2=\"1\">\n",
       "    <stop offset=\"30%\" stop-color=\"white\" stop-opacity=\"0.8\"/>\n",
       "    <stop offset=\"50%\" stop-color=\"white\" stop-opacity=\"0\"/>\n",
       "    <stop offset=\"70%\" stop-color=\"white\" stop-opacity=\"0.8\"/>\n",
       "  </linearGradient>\n",
       "</defs>\n",
       "<g transform=\"translate(0,100) scale(0.8)\" style=\"font-family:sans-serif\">\n",
       "<g transform=\"translate(170,0)\">\n",
       "    <rect x=\"25\" y=\"-50\" width=\"160\" height=\"100\" fill=\"url(#cat)\" stroke=\"none\"/>\n",
       "    <rect x=\"125\" y=\"-50\" width=\"25\" height=\"100\" fill=\"white\" stroke=\"none\"/>\n",
       "    <rect x=\"150\" y=\"-65\" width=\"50\" height=\"160\" fill=\"url(#tau)\" stroke=\"none\"/>\n",
       "    <path fill=\"none\" stroke=\"white\" stroke-width=\"174\" stroke-dasharray=\"5,10\" d=\"M80,-40 L80,40\"/>\n",
       "    <path fill=\"none\" stroke=\"white\" stroke-width=\"100\" stroke-dasharray=\"1,4\" d=\"M24,0 L140,0\"/>\n",
       "    <text x=\"73\" y=\"-55\" text-anchor=\"middle\">--- latent dim ---</text>\n",
       "    <text text-anchor=\"middle\" transform=\"translate(130,0) rotate(90)\">--- codebook ---</text>\n",
       "    <text x=\"175\" y=\"-55\" text-anchor=\"middle\" font-size=\"1.2em\" fill=\"black\">τ</text>\n",
       "    <text x=\"168\" y=\"66\" text-anchor=\"middle\" fill=\"black\">softmax</text>\n",
       "</g>\n",
       "<g transform=\"translate(60,0)\">\n",
       "    <path fill=\"none\" stroke=\"url(#encoder)\" stroke-width=\"5\" d=\"M0,-100 L120,-50 L120,50 L0,100 Z\"/>\n",
       "    <text x=\"60\" y=\"4\" text-anchor=\"middle\">Encoder</text>\n",
       "</g>\n",
       "<g transform=\"translate(363,0)\">\n",
       "    <path stroke=\"#88f\" stroke-width=\"16\" d=\"M10,-50 L10,50\"/>\n",
       "    <text x=\"10\" y=\"-55\" text-anchor=\"middle\">q</text>\n",
       "</g>\n",
       "<g transform=\"translate(395,0)\">\n",
       "    <path fill=\"none\" stroke=\"url(#decoder)\" stroke-width=\"5\" d=\"M0,-50 L120,-100 L120,100 L0,50 Z\"/>\n",
       "    <text x=\"60\" y=\"4\" text-anchor=\"middle\">Decoder</text>\n",
       "</g>\n",
       "</g>    \n",
       "</svg>"
      ],
      "text/plain": [
       "<IPython.core.display.SVG object>"
      ]
     },
     "execution_count": 27,
     "metadata": {},
     "output_type": "execute_result"
    }
   ],
   "source": [
    "SVG('assets/dvae.svg')"
   ]
  },
  {
   "cell_type": "code",
   "execution_count": 28,
   "id": "1f4df259",
   "metadata": {
    "scrolled": false
   },
   "outputs": [
    {
     "data": {
      "text/plain": [
       "(torch.Size([16, 80]), torch.Size([16, 80]))"
      ]
     },
     "execution_count": 28,
     "metadata": {},
     "output_type": "execute_result"
    }
   ],
   "source": [
    "class GEncoder(nn.Module):\n",
    "    \"\"\"\n",
    "    Enhance our existing encoder with a sense of proper data distribution including categorical\n",
    "    and allow some optional semantic channel interact with it\n",
    "    \"\"\"\n",
    "    def __init__(self, encoder: nn.Module, latent_dim: int, categorical_dim: int, semantic_dim: int = 0):\n",
    "        super().__init__()\n",
    "        self.latent_dim = latent_dim\n",
    "        self.categorical_dim = categorical_dim\n",
    "        self.semantic_dim = semantic_dim\n",
    "        self.encoder = encoder\n",
    "        self.neck = Neck(latent_dim * categorical_dim, semantic_dim)\n",
    "        \n",
    "    def encode(self, x, context: Optional[Tensor] = None):\n",
    "        return self.neck(self.encoder(x), context)\n",
    "\n",
    "    def gumbel_sample(self, shape, eps=1e-10):\n",
    "        \"\"\"\n",
    "        scale 0 location 1 Gumbel dist: -log(-log(U(0,1))) \n",
    "        \"\"\"\n",
    "        return -torch.log(-torch.log(torch.rand(shape).to(DEVICE) + eps) + eps)\n",
    "\n",
    "    def gumbel_softmax(self, x, temperature):\n",
    "        \"\"\"\n",
    "        add Gumbel noise to the logits (x), apply temperature and softmax\n",
    "        \"\"\"\n",
    "        h = x + self.gumbel_sample(x.size())\n",
    "        h = torch.softmax(h / temperature, dim=-1)\n",
    "        return h.view(-1, self.latent_dim * self.categorical_dim)\n",
    "    \n",
    "    def forward(self, x, context: Optional[Tensor] = None, temperature: Optional[float] = 1.):\n",
    "        h = self.encode(x, context)\n",
    "        h = h.view(h.size(0), self.latent_dim, self.categorical_dim)\n",
    "        # posterior and prior\n",
    "        q = torch.softmax(h, dim=-1).view(h.size(0), self.latent_dim * self.categorical_dim)\n",
    "        p = self.gumbel_softmax(h, temperature)\n",
    "        return p, q\n",
    "    \n",
    "\n",
    "p, q = GEncoder(encoder, LATENT_DIM, CATEGORICAL_DIM).to(DEVICE)(X, S, 0.5)\n",
    "p.shape, q.shape"
   ]
  },
  {
   "cell_type": "markdown",
   "id": "a9229e08",
   "metadata": {},
   "source": [
    "We are going to reuse the [decoder model architecture](#zdecoder):"
   ]
  },
  {
   "cell_type": "code",
   "execution_count": 29,
   "id": "94b989e8",
   "metadata": {
    "scrolled": false
   },
   "outputs": [
    {
     "data": {
      "text/plain": [
       "torch.Size([16, 1, 22, 22])"
      ]
     },
     "execution_count": 29,
     "metadata": {},
     "output_type": "execute_result"
    }
   ],
   "source": [
    "ZDecoder(decoder, LATENT_DIM * CATEGORICAL_DIM, SEMANTIC_DIM).to(DEVICE)(p, S)[0].shape"
   ]
  },
  {
   "cell_type": "code",
   "execution_count": 30,
   "id": "df5d7dc2",
   "metadata": {
    "scrolled": false
   },
   "outputs": [
    {
     "name": "stdout",
     "output_type": "stream",
     "text": [
      "torch.Size([16, 1, 22, 22])\n",
      "torch.Size([16, 80])\n",
      "torch.Size([16, 80])\n",
      "torch.Size([1])\n",
      "torch.Size([16, 80])\n"
     ]
    }
   ],
   "source": [
    "class DVAE(nn.Module):\n",
    "    \"\"\"\n",
    "    Take our existing encoder and decoder and build DVAE connector\n",
    "    with optional noisy semantic channel\n",
    "    \"\"\"\n",
    "    def __init__(self, encoder: nn.Module, decoder: nn.Module,\n",
    "                       latent_dim: int, categorical_dim: int,\n",
    "                       encoder_semantic_dim: int = 0, decoder_semantic_dim: int = 0,\n",
    "                       tau: float = 1.):\n",
    "        super().__init__()\n",
    "        self.latent_dim = latent_dim\n",
    "        self.categorical_dim = categorical_dim\n",
    "        # noise balansing parameter\n",
    "        self.tau = nn.Parameter(torch.tensor([tau]))\n",
    "        # adjusted encoder and decoder\n",
    "        self.encoder = GEncoder(encoder, latent_dim, categorical_dim, encoder_semantic_dim)\n",
    "        self.decoder = ZDecoder(decoder, latent_dim * categorical_dim, decoder_semantic_dim)\n",
    "        # output tags\n",
    "        self.keys = ['rec-DVAE','q','p','tau','p-context']\n",
    "        \n",
    "    @staticmethod\n",
    "    def translate(semantic_dim, context, temperature):\n",
    "        \"\"\"\n",
    "        for different scenarios:\n",
    "        unsupervised arbitrary floating point semantic vector goes as is\n",
    "        while labels need encoding, and maybe noise if semantic channel set to be noisy\n",
    "        \"\"\"\n",
    "        if semantic_dim == 0:\n",
    "            return None\n",
    "        if context is None or torch.is_floating_point(context):\n",
    "            return context\n",
    "        context = F.one_hot(context, num_classes=semantic_dim).to(DEVICE)\n",
    "        if temperature is None:\n",
    "            return context\n",
    "        return RelaxedOneHotCategorical(temperature, probs=context).sample()\n",
    "            \n",
    "    def forward(self, x, context: Optional[Tensor] = None, temperature: Optional[float] = None):\n",
    "        if temperature is None:\n",
    "            temperature = torch.exp(self.tau)\n",
    "        # representation: prior and posterior\n",
    "        p, q = self.encoder(x, self.translate(self.encoder.semantic_dim, context, temperature), temperature)\n",
    "        # reconstruction and its source conditioned representation\n",
    "        rec, pcontext = self.decoder(p, self.translate(self.decoder.semantic_dim, context, temperature))\n",
    "        return rec, p, q, self.tau, pcontext\n",
    "    \n",
    "    @torch.no_grad()\n",
    "    def sample(self, num_samples, context: Optional[Tensor] = None, temperature: Optional[float] = 1.):\n",
    "        if self.decoder.semantic_dim == 0:\n",
    "            context = None\n",
    "        if type(context) == int:\n",
    "            context = (torch.ones(num_samples) * context).long().to(DEVICE)\n",
    "        # condition without semantic noise\n",
    "        context = self.translate(self.decoder.semantic_dim, context, None)\n",
    "        d = self.latent_dim * self.categorical_dim\n",
    "        probs = torch.ones((num_samples, self.latent_dim, self.categorical_dim))/self.categorical_dim\n",
    "        if temperature is None:\n",
    "            p = OneHotCategorical(probs=probs.to(DEVICE)).sample().view(num_samples, d)\n",
    "        else:\n",
    "            p = RelaxedOneHotCategorical(temperature, probs=probs.to(DEVICE)).sample().view(num_samples, d)\n",
    "        return self.decoder(p, context)[0]\n",
    "\n",
    "    \n",
    "model = DVAE(encoder, decoder, LATENT_DIM, CATEGORICAL_DIM, SEMANTIC_DIM, SEMANTIC_DIM).to(DEVICE)\n",
    "for output in model(X, S, 0.5): print(output.shape)"
   ]
  },
  {
   "cell_type": "code",
   "execution_count": 31,
   "id": "3b413b83",
   "metadata": {
    "scrolled": false
   },
   "outputs": [
    {
     "data": {
      "text/plain": [
       "torch.Size([10, 1, 22, 22])"
      ]
     },
     "execution_count": 31,
     "metadata": {},
     "output_type": "execute_result"
    }
   ],
   "source": [
    "label = np.random.randint(SEMANTIC_DIM)\n",
    "model.sample(10, label, 0.5).shape"
   ]
  },
  {
   "cell_type": "markdown",
   "id": "363bad55",
   "metadata": {},
   "source": [
    "<a name=\"beasts\"></a>\n",
    "\n",
    "### Fancy beasts\n",
    "We've got our basic blocks, now let's construct some structures we want to explore. We have an encoder and decoder pair used in several different tasks trained jointly -- they could either enhance and regularize each other, or they could block each other out. The scenario would depend on the data: checking this dynamics may help with diagnostics some complicated cases.\n",
    "\n",
    "<a name=\"twin\"></a>\n",
    "Our first beast is a variational encoder with two heads: one Gaussian and one Gumbel."
   ]
  },
  {
   "cell_type": "code",
   "execution_count": 32,
   "id": "57f71ddd",
   "metadata": {},
   "outputs": [
    {
     "name": "stdout",
     "output_type": "stream",
     "text": [
      "torch.Size([16, 1, 22, 22])\n",
      "torch.Size([16, 8])\n",
      "torch.Size([16, 8])\n",
      "torch.Size([16, 8])\n",
      "torch.Size([16, 1, 22, 22])\n",
      "torch.Size([16, 80])\n",
      "torch.Size([16, 80])\n",
      "torch.Size([1])\n",
      "torch.Size([16, 8])\n",
      "torch.Size([16, 80])\n"
     ]
    }
   ],
   "source": [
    "class TwinVAE(nn.Module):\n",
    "    \"\"\"\n",
    "    Take an encoder-decoder pair and build conjoined twins VAE + DVAE\n",
    "    \"\"\"\n",
    "    def __init__(self, encoder: nn.Module, decoder: nn.Module,\n",
    "                       latent_dim: int, categorical_dim: int,\n",
    "                       encoder_semantic_dim: int = 0, decoder_semantic_dim: int = 0,\n",
    "                       tau: float = 1.):\n",
    "        super().__init__()\n",
    "        # system thermometer\n",
    "        self.tau = nn.Parameter(torch.tensor([tau]))\n",
    "        # twin-models\n",
    "        self.vae = VAE(encoder, decoder, latent_dim,\n",
    "                       encoder_semantic_dim, decoder_semantic_dim, tau)\n",
    "        self.dvae = DVAE(encoder, decoder, latent_dim, categorical_dim,\n",
    "                         encoder_semantic_dim, decoder_semantic_dim, tau)\n",
    "        # all the outputs tagged\n",
    "        self.keys = ['rec-VAE','z','mean','log-variance','rec-DVAE','p','q','tau','z-context','p-context']\n",
    "        \n",
    "    def sample(self, num_samples, context: Optional[Tensor] = None, temperature: Optional[float] = 1.,\n",
    "               categorical: Optional[bool] = False):\n",
    "        if categorical:\n",
    "            return self.dvae.sample(num_samples, context, temperature)\n",
    "        return self.vae.sample(num_samples, context, temperature)\n",
    "        \n",
    "    def forward(self, x, context: Optional[Tensor] = None, temperature: Optional[float] = None):\n",
    "        if temperature is None:\n",
    "            temperature = torch.exp(self.tau)\n",
    "        # vae reconstruction\n",
    "        c = self.vae.translate(self.vae.encoder.semantic_dim, context, temperature)\n",
    "        z, mean, logvar = self.vae.encoder(x, c)\n",
    "        c = self.vae.translate(self.vae.decoder.semantic_dim, context, temperature)\n",
    "        zrec, zcontext = self.vae.decoder(z, c)\n",
    "        # dvae reconstruction\n",
    "        c = self.dvae.translate(self.dvae.encoder.semantic_dim, context, temperature)\n",
    "        p, q = self.dvae.encoder(x, c, temperature)\n",
    "        c = self.dvae.translate(self.dvae.decoder.semantic_dim, context, temperature)\n",
    "        grec, pcontext = self.dvae.decoder(p, c)\n",
    "        return zrec, z, mean, logvar, grec, p, q, self.tau, zcontext, pcontext\n",
    "\n",
    "\n",
    "S = torch.rand(X.size(0), SEMANTIC_DIM).to(DEVICE)\n",
    "model = TwinVAE(encoder, decoder, LATENT_DIM, CATEGORICAL_DIM, SEMANTIC_DIM, SEMANTIC_DIM).to(DEVICE)\n",
    "for output in model(X, C): print(output.shape)"
   ]
  },
  {
   "cell_type": "code",
   "execution_count": 33,
   "id": "c2877215",
   "metadata": {},
   "outputs": [
    {
     "data": {
      "text/plain": [
       "torch.Size([1, 1, 22, 22])"
      ]
     },
     "execution_count": 33,
     "metadata": {},
     "output_type": "execute_result"
    }
   ],
   "source": [
    "model.sample(1, label, True).shape"
   ]
  },
  {
   "cell_type": "markdown",
   "id": "6ba0fd09",
   "metadata": {},
   "source": [
    "<a name=\"hydra\"></a>\n",
    "Our second beast is a variational encoder with an additional regular AE head."
   ]
  },
  {
   "cell_type": "code",
   "execution_count": 34,
   "id": "c0f47b39",
   "metadata": {},
   "outputs": [
    {
     "name": "stdout",
     "output_type": "stream",
     "text": [
      "torch.Size([16, 1, 22, 22])\n",
      "torch.Size([16, 1, 22, 22])\n",
      "torch.Size([16, 8])\n",
      "torch.Size([16, 8])\n",
      "torch.Size([16, 8])\n",
      "torch.Size([1])\n",
      "torch.Size([16, 8])\n"
     ]
    }
   ],
   "source": [
    "class HydraVAE(nn.Module):\n",
    "    \"\"\"\n",
    "    Take an encoder-decoder pair and build conjoined twins VAE/DVAE + AE\n",
    "    \"\"\"\n",
    "    def __init__(self, encoder: nn.Module, decoder: nn.Module,\n",
    "                       latent_dim: int, categorical_dim: int = None,\n",
    "                       encoder_semantic_dim: int = 0, decoder_semantic_dim: int = 0,\n",
    "                       tau: float = 1.):\n",
    "        super().__init__()\n",
    "        self.tau = nn.Parameter(torch.tensor([tau]))\n",
    "        self.ae = AutoEncoder(encoder, decoder)\n",
    "        self.categorical = categorical_dim is not None\n",
    "        if self.categorical: # gumbel-vae\n",
    "            self.dvae = DVAE(encoder, decoder, latent_dim, categorical_dim,\n",
    "                             encoder_semantic_dim, decoder_semantic_dim, tau)\n",
    "            self.keys = ['rec-AE','rec-DVAE','p','q','tau','p-context']\n",
    "        else: # vanilla-vae\n",
    "            self.vae = VAE(encoder, decoder, latent_dim,\n",
    "                           encoder_semantic_dim, decoder_semantic_dim, tau)\n",
    "            self.keys = ['rec-AE','rec-VAE','z','mean','log-variance','tau','z-context']\n",
    "        \n",
    "    def sample(self, num_samples, context: Optional[Tensor] = None, temperature: Optional[float] = 1.):\n",
    "        if self.categorical:\n",
    "            return self.dvae.sample(num_samples, context, temperature)\n",
    "        return self.vae.sample(num_samples, context, temperature)\n",
    "\n",
    "    def forward(self, x, context: Optional[Tensor] = None, temperature: Optional[float] = None):\n",
    "        if temperature is None:\n",
    "            temperature = torch.exp(self.tau)\n",
    "        rec = self.ae(x)\n",
    "        if self.categorical: # gumbel-vae\n",
    "            c = self.dvae.translate(self.dvae.encoder.semantic_dim, context, temperature)\n",
    "            p, q = self.dvae.encoder(x, c, temperature)\n",
    "            c = self.dvae.translate(self.dvae.decoder.semantic_dim, context, temperature)\n",
    "            grec, pcontext = self.dvae.decoder(p, c)\n",
    "            return rec, grec, p, q, self.tau, pcontext\n",
    "        # vanilla vae\n",
    "        c = self.vae.translate(self.vae.encoder.semantic_dim, context, temperature)\n",
    "        z, mean, logvar = self.vae.encoder(x, c)\n",
    "        c = self.vae.translate(self.vae.decoder.semantic_dim, context, temperature)\n",
    "        zrec, zcontext = self.vae.decoder(z, c)\n",
    "        return rec, zrec, z, mean, logvar, self.tau, zcontext\n",
    "    \n",
    "\n",
    "model = HydraVAE(encoder, decoder, LATENT_DIM, None, SEMANTIC_DIM, SEMANTIC_DIM).to(DEVICE)\n",
    "for output in model(X, S, 0.5):\n",
    "    print(output.shape)"
   ]
  },
  {
   "cell_type": "code",
   "execution_count": 35,
   "id": "6bc7957b",
   "metadata": {
    "scrolled": false
   },
   "outputs": [
    {
     "data": {
      "text/plain": [
       "torch.Size([1, 1, 22, 22])"
      ]
     },
     "execution_count": 35,
     "metadata": {},
     "output_type": "execute_result"
    }
   ],
   "source": [
    "model.sample(1, label, 0.5).shape"
   ]
  },
  {
   "cell_type": "markdown",
   "id": "232e842a",
   "metadata": {},
   "source": [
    "<a name=\"loss\"></a>\n",
    "\n",
    "## Loss definition\n",
    "To use backpropagation we need to define a differentiable loss function.\n",
    "The main approach is to jointly optimize the reconstruction and the distance between parameterized $q(z|x)$ and $p(z|x)$: first takes care of neural network learning data, second makes sure that we learn a proper distribution along the way.\n",
    "\n",
    "Training VAE could be confusing: it explicitly claims using tricks, and, it is a hybrid model. The theoretical constructs from probabilistic models could be very useful for some simple examples like MNIST, but could be more of a distraction and hard to follow with complicated data. (One of objectives of machine learning is to minimize necessity of search for closed theoretical solution to deliver a sufficiently useful result.) Let's go simple way."
   ]
  },
  {
   "cell_type": "code",
   "execution_count": 36,
   "id": "4cf06515",
   "metadata": {
    "scrolled": false
   },
   "outputs": [],
   "source": [
    "# get sample outputs to play with\n",
    "output = TwinVAE(encoder, decoder, LATENT_DIM, CATEGORICAL_DIM, SEMANTIC_DIM, SEMANTIC_DIM).to(DEVICE)(X, C)\n",
    "zrec, Z, mean, logvar, grec, P, Q, tau, zcontext, pcontext = output"
   ]
  },
  {
   "cell_type": "markdown",
   "id": "faa4fef7",
   "metadata": {},
   "source": [
    "<a name=\"rec\"></a>\n",
    "\n",
    "### Reconstruction error\n",
    "The `reconstruction error` measures how close the reconstructed image is to the original. \n",
    "This one seems straight forward, we can use `MSE` or `BCE`/`CrossEntropy` whichever fits our data most (number of channels, unbalanced channel representation etc.) do not get distracted by statements like `IMAGENET` suggests Gaussian, binarized `MNIST` suggests Bernoulli.\n",
    "\n",
    "The confusion with this one comes from which `reduction` to use. Well, theoretically we should `sum` over our minibatch if we get KLD stats from. Practically, it doesn't really matter, as soon as it [scaled up sufficiently](AE-Experiments-Setup.ipynb#test). Let's check the scale of our prospect options with our untrained model."
   ]
  },
  {
   "cell_type": "code",
   "execution_count": 37,
   "id": "b71bf6ef",
   "metadata": {
    "scrolled": false
   },
   "outputs": [
    {
     "name": "stdout",
     "output_type": "stream",
     "text": [
      "MSE[sum]:\t143,733,600.0000\n",
      "MSE[sum]/W:\t55,335,580.0000\n",
      "MSE[sum]/WxH:\t52,986,000.0000\n",
      "MSE[mean]:\t18,560.6387\n",
      "MSE[mean]/W:\t7,145.6064\n",
      "MSE[mean]/WxH:\t6,842.2002\n",
      "\n",
      "CrossEntropy[sum]:\t2,292,864.0000\n",
      "CrossEntropy[sum]/W:\t882,723.0625\n",
      "CrossEntropy[sum]/WxH:\t845,242.1250\n",
      "CrossEntropy[mean]:\t6,513.8188\n",
      "CrossEntropy[mean]/W:\t2,507.7363\n",
      "CrossEntropy[mean]/WxH:\t2,401.2563\n",
      "\n",
      "BCE[sum]:\t249,180.0625\n",
      "BCE[sum]/W:\t95,931.1094\n",
      "BCE[sum]/WxH:\t91,857.8203\n",
      "BCE[mean]:\t32.1772\n",
      "BCE[mean]/W:\t12.3878\n",
      "BCE[mean]/WxH:\t11.8618\n",
      "\n"
     ]
    }
   ],
   "source": [
    "class ReconstructionLoss(nn.Module):\n",
    "    \"\"\"\n",
    "    value depends on batch size and image-size\n",
    "    \"\"\"\n",
    "    def __init__(self, loss: nn.Module, weight: float = 0., trainable: bool = False):\n",
    "        super().__init__()\n",
    "        self.loss = loss\n",
    "        weight = torch.Tensor([weight]).to(DEVICE)\n",
    "        self.weight = nn.Parameter(weight) if trainable else weight\n",
    "        \n",
    "    def forward(self, x, y):\n",
    "        return self.loss(x.squeeze(), y.squeeze()) * torch.exp(self.weight)\n",
    "\n",
    "\n",
    "# losses we consider\n",
    "options = {'MSE':nn.MSELoss, 'CrossEntropy':nn.CrossEntropyLoss, 'BCE':nn.BCEWithLogitsLoss }\n",
    "#       image-size,  image-area\n",
    "norm = [1./REC_SIZE, 1./REC_SIZE ** 2]\n",
    "\n",
    "# check the value scale at initiation\n",
    "for key, opt in options.items():\n",
    "    for reduction in ['sum','mean']:\n",
    "        loss = ReconstructionLoss(opt(reduction=reduction), 1.)\n",
    "        print(f'{key}[{reduction}]:\\t{loss.to(DEVICE)(zrec.squeeze(), Y.to(DEVICE)).item():,.4f}')\n",
    "        for k,w in zip(['W','WxH'], norm):\n",
    "            loss = ReconstructionLoss(opt(reduction=reduction), w)\n",
    "            print(f'{key}[{reduction}]/{k}:\\t{loss.to(DEVICE)(zrec.squeeze(), Y.to(DEVICE)).item():,.4f}')\n",
    "    print()"
   ]
  },
  {
   "cell_type": "markdown",
   "id": "b8a06ccd",
   "metadata": {},
   "source": [
    "The bigger loss value generates bigger gradients, in our case it defined by our output image shape and batch size -- that's the numbers we should keep in mind.\n",
    "\n",
    "<a name=\"kld\"></a>\n",
    "\n",
    "### KL-diversion: VAE\n",
    "The Kullback–Leibler divergence measures the distance between the two distributions: in our case the variational posterior $q$ and the prior $p$ on the latent variable. With both the prior and posterior defined to be diagonal Gaussians this term has a closed-form solution:\n",
    "#### $KLD_{(q \\lVert p)} = -\\frac{1}{2} \\displaystyle\\sum_{i=1}^{D} (1 + \\log \\sigma_i^2 - \\mu_i^2 - \\sigma_i^2)$\n",
    "\n",
    "We are not going to depth Math here, just for the reference:\n",
    "#### $H(p, q) = - \\displaystyle\\sum_x p(x)\\log(q(x))$\n",
    "#### $KLD(q \\lVert p) = - \\displaystyle\\sum_x p(x)\\log\\left(\\dfrac{q(x)}{p(x)}\\right)$\n",
    "#### $H(p, q) = H(p) + KLD(q \\lVert p)$"
   ]
  },
  {
   "cell_type": "code",
   "execution_count": 38,
   "id": "af17b2ee",
   "metadata": {
    "scrolled": false
   },
   "outputs": [
    {
     "name": "stdout",
     "output_type": "stream",
     "text": [
      "KLDGaussianLoss[sum]:\t0.1033\n",
      "KLDGaussianLoss[mean]:\t0.0065\n"
     ]
    }
   ],
   "source": [
    "class KLDGaussianLoss(nn.Module):\n",
    "    \"\"\"\n",
    "    assuming diagonal Gaussian prior and posterior\n",
    "    \"\"\"\n",
    "    def __init__(self, reduction: str = 'mean', weight: float = 0., trainable: bool = False):\n",
    "        super().__init__()\n",
    "        self.reduction = reduction\n",
    "        weight = torch.Tensor([weight]).to(DEVICE)\n",
    "        self.weight = nn.Parameter(weight) if trainable else weight\n",
    "        \n",
    "    def forward(self, mean, logvar):\n",
    "        loss = (mean.pow(2) + logvar.exp() - logvar - 1.) * 0.5\n",
    "        if self.reduction == 'mean':\n",
    "            return torch.sum(loss, axis=1).mean() * torch.exp(self.weight)\n",
    "        return torch.sum(loss) * torch.exp(self.weight)\n",
    "    \n",
    "\n",
    "# check the scale\n",
    "for reduction in ['sum','mean']:\n",
    "    loss = KLDGaussianLoss(reduction)\n",
    "    print(f'KLDGaussianLoss[{reduction}]:\\t{loss.to(DEVICE)(mean, logvar).item():.4f}')"
   ]
  },
  {
   "cell_type": "markdown",
   "id": "9173225d",
   "metadata": {},
   "source": [
    "This term cause maybe most of \"operational\" confusion. It called `regularization`, but what it regularizes is the resulting (learned) distribution, not the training process. From the perspective of the training process it could be (and it is in the MNIST case) an [adversarial term: it may need to grow](AE-Experiments-Setup.ipynb#test) first. Usually, it is not a problem due to the respective scales: in the beginning of the training the reconstruction loss are so heavily dominating that it allows necessary KLD grows sneak behind.\n",
    "\n",
    "Let's see how this distributed with different batch-sizes and reductions:"
   ]
  },
  {
   "cell_type": "code",
   "execution_count": null,
   "id": "195968c2",
   "metadata": {},
   "outputs": [],
   "source": [
    "fig, ax = plt.subplots(2, 2, figsize=(8, 8))\n",
    "with torch.no_grad():\n",
    "    for i, r in enumerate(['mean','sum']):\n",
    "        test, batch_sizes = [], [8, 16, 32, 64, 128]\n",
    "        loss = KLDGaussianLoss(r).to(DEVICE)\n",
    "        for _ in range(500):\n",
    "            b, d = int(np.random.choice(batch_sizes)), np.random.randint(2, 512)\n",
    "            model = VAE(encoder, decoder, d, SEMANTIC_DIM).to(DEVICE)\n",
    "            for x, _, _ in DataLoader(dataset(trainset), batch_size=b, shuffle=True):\n",
    "                _, _, mu, lv, _, _ = model(x.to(DEVICE))\n",
    "                test.append((b, d, loss(mu, lv).item()))\n",
    "                break\n",
    "        test = np.array(test)\n",
    "        for j in range(2):\n",
    "            l, c = ['batch-size','latent-dim'][j], ['batch-size','latent-dim'][1 - j]\n",
    "            ax[i][j].scatter(test[:,j], test[:,2], c=test[:,1 - j], cmap='coolwarm', s=5, alpha=0.5)\n",
    "            ax[i][j].set_xlabel(l, fontsize=8)\n",
    "            ax[i][j].set_title(f'KLDGaussianLoss[ {r} ]   color[ {c} ]', fontsize=10)\n",
    "            ax[i][j].set_yscale('log')\n",
    "        ax[i][0].set_xscale('log')\n",
    "        ax[i][0].set_xticks(batch_sizes)\n",
    "        ax[i][0].get_xaxis().set_major_formatter(ticker.ScalarFormatter())\n",
    "plt.tight_layout()"
   ]
  },
  {
   "cell_type": "markdown",
   "id": "55c7cd31",
   "metadata": {},
   "source": [
    "<a name=\"kld-dvae\"></a>\n",
    "\n",
    "### KL-diversion: DVAE\n",
    "The divergence of the latent probability distribution with the uniform prior $1/C$ for all categories where $C$ is the codebook size (number of categories).\n",
    "\n",
    "#### $KLD_{(q \\lVert p)} = \\mathbb{E}_q \\bigg[ \\log \\dfrac{q(x)}{p(x)} \\bigg] = \\displaystyle\\sum_{j=1}^{C} q(x_i) \\log (C \\cdot q(x_i))$"
   ]
  },
  {
   "cell_type": "code",
   "execution_count": 40,
   "id": "ffa58d45",
   "metadata": {
    "scrolled": false
   },
   "outputs": [
    {
     "name": "stdout",
     "output_type": "stream",
     "text": [
      "KLDGumbelLoss[sum]:\t0.2419\n",
      "KLDGumbelLoss[mean]:\t0.0151\n"
     ]
    }
   ],
   "source": [
    "class KLDGumbelLoss(nn.Module):\n",
    "    \"\"\"\n",
    "    assuming uniform prior 1/#categories for all categories\n",
    "    \"\"\"\n",
    "    def __init__(self, categorical_dim: int, reduction: str = 'mean', weight: float = 0.,\n",
    "                 trainable: bool = False):\n",
    "        super().__init__()\n",
    "        self.dim = categorical_dim\n",
    "        self.reduction = reduction\n",
    "        weight = torch.Tensor([weight]).to(DEVICE)\n",
    "        self.weight = nn.Parameter(weight) if trainable else weight\n",
    "        \n",
    "    def forward(self, proba):\n",
    "        if self.reduction == 'mean':\n",
    "            return torch.sum(proba * torch.log(proba * self.dim + 1e-11), dim=1).mean() * torch.exp(self.weight)\n",
    "        return torch.sum(proba * torch.log(proba * self.dim + 1e-11)) * torch.exp(self.weight)\n",
    "\n",
    "\n",
    "# check the scale\n",
    "for reduction in ['sum','mean']:\n",
    "    loss = KLDGumbelLoss(CATEGORICAL_DIM, reduction)\n",
    "    print(f'KLDGumbelLoss[{reduction}]:\\t{loss.to(DEVICE)(Q).item():.4f}')"
   ]
  },
  {
   "cell_type": "code",
   "execution_count": null,
   "id": "1ec15952",
   "metadata": {},
   "outputs": [],
   "source": [
    "# lets check how it comes out with different configuration\n",
    "fig, ax = plt.subplots(2, 2, figsize=(8, 8))\n",
    "with torch.no_grad():\n",
    "    for i, r in enumerate(['mean','sum']):\n",
    "        test = []\n",
    "        for _ in range(500):\n",
    "            b, d, c = int(np.random.choice(batch_sizes)), np.random.randint(2, 512), np.random.randint(2, 20)\n",
    "            model = DVAE(encoder, decoder, d, c, SEMANTIC_DIM).to(DEVICE)\n",
    "            loss = KLDGumbelLoss(c, r).to(DEVICE)\n",
    "            for x, _, _ in DataLoader(dataset(trainset), batch_size=b, shuffle=True):\n",
    "                _, _, q, _, _ = model(x.to(DEVICE))\n",
    "                test.append((b, d, c, loss(q).item()))\n",
    "                break\n",
    "        test = np.array(test)\n",
    "        for j, l in enumerate(['batch-size','latent-dim']):\n",
    "            ax[i][j].scatter(test[:,j], test[:,3], c=test[:,2], cmap='coolwarm', s=5, alpha=0.5)\n",
    "            ax[i][j].set_xlabel(l, fontsize=8)\n",
    "            ax[i][j].set_title(f'KLDGumbleLoss[ {r} ]   color[ categoric-dim ]', fontsize=9)\n",
    "            ax[i][j].set_yscale('log')\n",
    "        ax[i][0].set_xscale('log')\n",
    "        ax[i][0].set_xticks(batch_sizes)\n",
    "        ax[i][0].get_xaxis().set_major_formatter(ticker.ScalarFormatter())\n",
    "plt.tight_layout()"
   ]
  },
  {
   "cell_type": "markdown",
   "id": "94fe70a8",
   "metadata": {},
   "source": [
    "<a name=\"helpers\"></a>\n",
    "\n",
    "## Helper terms\n",
    "Finally, we are going to introduce a couple of helper terms to assist with intuition on the training process and diagnostics of the status. These terms are not the loss components neither regularization in general, they are intuitive metrics that expected to go along with our main objectives. However, in some cases they could be either loss components or regularization, or both.\n",
    "\n",
    "<a name=\"contrast\"></a>\n",
    "\n",
    "### Contrast\n",
    "VAE can suffer from posterior collapse, where the encoder gets stuck in a trivial latent space. Sometimes a training failure blamed on a poor starter representation to begin with. Either way, we want the differences between the samples get properly attended.  Similar to contrast learning we specifically want the non-identical samples represented differently. However, we should be careful not to get in the way of generalization.\n",
    "\n",
    "The term defined with diagonal target in mind, and collinear representations penalized the most in the batch of distinct (not necessarily different class) samples. The metric \"sensitivity\" depends on the batch size and latent space size, so we scaled it with those parameters."
   ]
  },
  {
   "cell_type": "code",
   "execution_count": 42,
   "id": "7eee2e0c",
   "metadata": {},
   "outputs": [
    {
     "name": "stdout",
     "output_type": "stream",
     "text": [
      "VAE ContrastLoss(z):\t2.5804\n",
      "VAE ContrastLoss(mean):\t2.9428\n",
      "VAE ContrastLoss(p):\t4.1926\n",
      "VAE ContrastLoss(q):\t4.2789\n"
     ]
    }
   ],
   "source": [
    "class ContrastLoss(nn.Module):\n",
    "    \"\"\"\n",
    "    focus on difference: make covariance look more like identity\n",
    "    \"\"\"\n",
    "    def __init__(self, weight: float = 0., trainable: bool = False):\n",
    "        super().__init__()\n",
    "        weight = torch.Tensor([weight]).to(DEVICE)\n",
    "        self.weight = nn.Parameter(weight) if trainable else weight\n",
    "\n",
    "    def forward(self, x):\n",
    "        b, d = x.size()\n",
    "        C = torch.abs(x @ x.T)\n",
    "        return (1. - torch.trace(C)/torch.sum(C)) * np.log(d + b) * torch.exp(self.weight)\n",
    "\n",
    "    \n",
    "for x,v in zip([Z, mean, P, Q],['z','mean','p','q']):\n",
    "    print(f'VAE ContrastLoss({v}):\\t{ContrastLoss().to(DEVICE)(x).item():.4f}')"
   ]
  },
  {
   "cell_type": "code",
   "execution_count": null,
   "id": "ab43183a",
   "metadata": {},
   "outputs": [],
   "source": [
    "# lets check how it comes out with different configuration\n",
    "with torch.no_grad():\n",
    "    test = []\n",
    "    loss = ContrastLoss().to(DEVICE)\n",
    "    for _ in range(500):\n",
    "        b, d = int(np.random.choice(batch_sizes)), np.random.randint(2, 512)\n",
    "        model = VAE(encoder, decoder, d, SEMANTIC_DIM).to(DEVICE)\n",
    "        for x, _, _ in DataLoader(dataset(trainset), batch_size=b, shuffle=True):\n",
    "            _, z, mu, _, _, _ = model(x.to(DEVICE))\n",
    "            test.append((b, d, loss(z).item()))\n",
    "            break\n",
    "test = np.array(test)\n",
    "fig, ax = plt.subplots(1, 2, figsize=(8, 4))\n",
    "for j in range(2):\n",
    "    l, c = ['batch-size','latent-dim'][j], ['batch-size','latent-dim'][1 - j]\n",
    "    ax[j].scatter(test[:,j], test[:,2], c=test[:,1 - j], cmap='coolwarm', s=5, alpha=0.5)\n",
    "    ax[j].set_xlabel(l, fontsize=8)\n",
    "    ax[j].set_title(f'ContrastLoss[ {r} ]   color[ {c} ]', fontsize=10)\n",
    "ax[0].set_xscale('log')\n",
    "ax[0].set_xticks(batch_sizes)\n",
    "ax[0].get_xaxis().set_major_formatter(ticker.ScalarFormatter())\n",
    "plt.tight_layout()"
   ]
  },
  {
   "cell_type": "code",
   "execution_count": null,
   "id": "d382ba00",
   "metadata": {
    "scrolled": false
   },
   "outputs": [],
   "source": [
    "loss = ContrastLoss().to(DEVICE)\n",
    "b = 16\n",
    "for d in [b * n for n in [1, 4, 16, 32]]:\n",
    "    N = [np.random.normal(size=(b, d)),\n",
    "         np.tile(np.random.normal(size=(d,)), (b, 1)) * np.random.rand(b, 1),\n",
    "         np.concatenate((np.eye(b) * np.random.normal(1., 1., size=(b, 1)), np.zeros((b, d - b))), axis=1)]\n",
    "    M = [np.abs(x.dot(x.T)) for x in N]\n",
    "    fig, ax = plt.subplots(1, 6, figsize=(9, 9))\n",
    "    for i, (x, m) in enumerate(zip(N, M)):\n",
    "        ax[i * 2].imshow(x, cmap='coolwarm')\n",
    "        ax[i * 2].set_title(['random','collinear','ortogonal'][i], fontsize=10)\n",
    "        ax[i * 2].set_xticks([])\n",
    "        ax[i * 2].set_yticks([])\n",
    "        ax[i * 2 + 1].imshow(m, cmap='coolwarm')\n",
    "        ax[i * 2 + 1].set_title(f'loss: {loss(torch.Tensor(x).to(DEVICE)).cpu().item():.4f}', fontsize=10)\n",
    "        ax[i * 2 + 1].set_xticks([])\n",
    "        ax[i * 2 + 1].set_yticks([])\n",
    "    ax[0].set_xlabel(f'--- latent-dim {d} ---', fontsize=8)\n",
    "    ax[0].set_ylabel(f'--- batch {b} ---', fontsize=6)        \n",
    "    plt.tight_layout()\n",
    "    plt.show()"
   ]
  },
  {
   "cell_type": "markdown",
   "id": "15071259",
   "metadata": {
    "scrolled": false
   },
   "source": [
    "<a name=\"align\"></a>\n",
    "\n",
    "### Semantic align\n",
    "This one is basically a simple `cosine similarity`. With training progress when we merge `context` we expect the `context-projection` to be progressively more aligned with the incoming representation if there's no conflict. We can use cosine-similarity as a measure of this alignment."
   ]
  },
  {
   "cell_type": "code",
   "execution_count": 45,
   "id": "8300815b",
   "metadata": {},
   "outputs": [
    {
     "name": "stdout",
     "output_type": "stream",
     "text": [
      "VAE AlignLoss(z, context):\t1.0389\t\tAlignLoss(z, z): 0.0000\n"
     ]
    }
   ],
   "source": [
    "class AlignLoss(nn.Module):\n",
    "    \"\"\"\n",
    "    cosine similarity between `perceived` and `hinted`\n",
    "    \"\"\"\n",
    "    def __init__(self, weight: float = 0., trainable: bool = False):\n",
    "        super().__init__()\n",
    "        weight = torch.Tensor([weight]).to(DEVICE)\n",
    "        self.weight = nn.Parameter(weight) if trainable else weight\n",
    "\n",
    "    def forward(self, x, y):\n",
    "        xnorm, ynorm = torch.sum(x ** 2, dim=1), torch.sum(y ** 2, dim=1)\n",
    "        if torch.any(xnorm) and torch.any(ynorm):\n",
    "            norm = (xnorm * ynorm) ** 0.5\n",
    "            return 1. - torch.mean(torch.sum(x * y, dim=1)/norm) * torch.exp(self.weight)\n",
    "        return torch.Tensor([1.])\n",
    "\n",
    "\n",
    "align = AlignLoss().to(DEVICE)\n",
    "print(f'VAE AlignLoss(z, context):\\t{align(Z, zcontext).item():.4f}\\t\\tAlignLoss(z, z): {align(Z, Z).item():.4f}')"
   ]
  },
  {
   "cell_type": "markdown",
   "id": "1828f523",
   "metadata": {},
   "source": [
    "For DVAE case we only align a codebook representation in contrast with the `contrast` metric where we use full resolution (both axes latent and categorical) to calculate the metric."
   ]
  },
  {
   "cell_type": "code",
   "execution_count": 46,
   "id": "b8d18efd",
   "metadata": {},
   "outputs": [
    {
     "name": "stdout",
     "output_type": "stream",
     "text": [
      "DVAE AlignLoss(p, context):\t0.9450\t\tAlignLoss(p, p): 0.0000\n"
     ]
    }
   ],
   "source": [
    "# align a codebook representation (mean-pool from latent axis)\n",
    "p = torch.mean(P.view(-1, LATENT_DIM, CATEGORICAL_DIM), dim=-1)\n",
    "pcontext = torch.mean(pcontext.view(-1, LATENT_DIM, CATEGORICAL_DIM), dim=-1)\n",
    "print(f'DVAE AlignLoss(p, context):\\t{align(p, pcontext).item():.4f}\\t\\tAlignLoss(p, p): {align(p, p).item():.4f}')"
   ]
  },
  {
   "cell_type": "markdown",
   "id": "e4e1dc75",
   "metadata": {},
   "source": [
    "<a name=\"tau\"></a>\n",
    "\n",
    "### Temperature\n",
    "The last on is a system thermometer, comes handy if we want to penalize the level of the noise. In DVAE we use temperature to control the `gumbel-relaxation`. In the case of a semantic channel presence we use temperature to control the noise in the channel: similar way to make the space more smooth (differentiable).\n",
    "\n",
    "Here we use `tau` which is log(temperature) for the `trainable` case convenience."
   ]
  },
  {
   "cell_type": "code",
   "execution_count": 47,
   "id": "9dfb1a2e",
   "metadata": {},
   "outputs": [],
   "source": [
    "class TauLoss(nn.Module):\n",
    "    \"\"\"\n",
    "    thermometer: measures level of the noise in the system\n",
    "    \"\"\"\n",
    "    def __init__(self, weight: float = 0., trainable: bool = False):\n",
    "        super().__init__()\n",
    "        weight = torch.Tensor([weight]).to(DEVICE)\n",
    "        self.weight = nn.Parameter(weight) if trainable else weight\n",
    "\n",
    "    def forward(self, x, y=0):\n",
    "        #sreturn x ** 2 ### distance from the regular softmax\n",
    "        #return 0. ### do not penalize temperature        \n",
    "        return (torch.exp(x) - y) ** 4 * torch.exp(self.weight) ### distance from a specific freezing point\n",
    "    "
   ]
  },
  {
   "cell_type": "code",
   "execution_count": null,
   "id": "e7e4f4b7",
   "metadata": {},
   "outputs": [],
   "source": []
  }
 ],
 "metadata": {
  "kernelspec": {
   "display_name": "Python 3 (ipykernel)",
   "language": "python",
   "name": "python3"
  },
  "language_info": {
   "codemirror_mode": {
    "name": "ipython",
    "version": 3
   },
   "file_extension": ".py",
   "mimetype": "text/x-python",
   "name": "python",
   "nbconvert_exporter": "python",
   "pygments_lexer": "ipython3",
   "version": "3.10.12"
  }
 },
 "nbformat": 4,
 "nbformat_minor": 5
}
