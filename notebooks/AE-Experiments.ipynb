{
 "cells": [
  {
   "cell_type": "markdown",
   "id": "3dcb5e52",
   "metadata": {},
   "source": [
    "# AE-LEGO Experiments\n",
    "This notebook takes dive into training a diverse set of variational encoders.\n",
    "\n",
    "* [Dataset](#data)\n",
    "* [Loss exploration setup](AE-Experiments-Setup.ipynb#loss)\n",
    "* [Experiment setup](AE-Experiments-Setup.ipynb#exp)\n",
    "* [Fixed parameters experiments](#fixed):\n",
    "    * 1. [VAE](#1): [no regularization](#1)\n",
    "    * 2. [VAE](#1): [KL-diversion regularization](#2)\n",
    "    * 3. [VAE](#1): [contrast](#3)\n",
    "    * 4. [VAE](#1): [semantic align](#4)\n",
    "    * 5. [VAE](#1): [all terms](#5)\n",
    "    * 6. [DVAE](#6): [no regularization](#6)\n",
    "    * 7. [DVAE](#6): [KL-diversion regularization](#7)\n",
    "    * 8. [DVAE](#6): [contrast](#8)\n",
    "    * 9. [DVAE](#6): [semantic align](#9)\n",
    "    * 10. [DVAE](#6): [all terms](#10)\n",
    "* [Siamese experiments](#siam):\n",
    "    * 11. [Twin-VAE](#11): [no regularization](#11)\n",
    "    * 12. [Twin-VAE](#11): [all terms](#12)\n",
    "    * 13. [Hydra-VAE](#13): [no regularization](#13)\n",
    "    * 14. [Hydra-VAE](#13): [all terms](#14)\n",
    "    * 15. [Hydra-DVAE](#15): [no regularization](#15)\n",
    "    * 16. [Hydra-DVAE](#15): [all terms](#16)\n",
    "* [Trainable balance experiments](#train):\n",
    "    * 17. [VAE](#17)\n",
    "    * 18. [DVAE](#18)\n",
    "    * 18. [Twin-VAE](#19)\n",
    "    * 20. [Hydra-VAE](#20)\n",
    "    * 21. [Hydra-DVAE](#21)\n",
    "* [Compare results](#res)\n",
    "    "
   ]
  },
  {
   "cell_type": "code",
   "execution_count": null,
   "id": "91cf6f1a",
   "metadata": {
    "execution": {
     "iopub.execute_input": "2023-11-04T07:28:09.920478Z",
     "iopub.status.busy": "2023-11-04T07:28:09.919681Z",
     "iopub.status.idle": "2023-11-04T07:28:11.942210Z",
     "shell.execute_reply": "2023-11-04T07:28:11.941366Z"
    },
    "scrolled": false
   },
   "outputs": [],
   "source": [
    "import os\n",
    "import torch\n",
    "import numpy as np\n",
    "import pandas as pd\n",
    "\n",
    "import warnings\n",
    "warnings.filterwarnings('ignore')\n",
    "\n",
    "from PIL import Image\n",
    "from matplotlib import pyplot as plt\n",
    "from matplotlib import colormaps, ticker\n",
    "from IPython.display import SVG\n",
    "\n",
    "from torch import nn\n",
    "from torchvision import transforms, models\n",
    "from torch.utils.data import DataLoader, Dataset\n",
    "from torch.utils.tensorboard import SummaryWriter\n",
    "from torch.optim import SGD, AdamW\n",
    "from torchsummary import summary\n",
    "\n",
    "from torchvision.datasets import MNIST"
   ]
  },
  {
   "cell_type": "code",
   "execution_count": null,
   "id": "81322936",
   "metadata": {
    "execution": {
     "iopub.execute_input": "2023-11-04T07:28:11.946251Z",
     "iopub.status.busy": "2023-11-04T07:28:11.945981Z",
     "iopub.status.idle": "2023-11-04T07:28:13.068246Z",
     "shell.execute_reply": "2023-11-04T07:28:13.067461Z"
    },
    "scrolled": false
   },
   "outputs": [],
   "source": [
    "from scripts.backbone import *\n",
    "from scripts.aelego import *\n",
    "from scripts.experiment import *\n",
    "from scripts.utils import *"
   ]
  },
  {
   "cell_type": "code",
   "execution_count": null,
   "id": "4e3b58ec",
   "metadata": {
    "execution": {
     "iopub.execute_input": "2023-11-04T07:28:13.073533Z",
     "iopub.status.busy": "2023-11-04T07:28:13.072814Z",
     "iopub.status.idle": "2023-11-04T07:28:13.079123Z",
     "shell.execute_reply": "2023-11-04T07:28:13.078205Z"
    },
    "scrolled": false
   },
   "outputs": [],
   "source": [
    "torch.cuda.empty_cache()\n",
    "print('GPU' if DEVICE == 'cuda' else 'no GPU')"
   ]
  },
  {
   "cell_type": "code",
   "execution_count": null,
   "id": "7d088d5c",
   "metadata": {
    "execution": {
     "iopub.execute_input": "2023-11-04T07:28:13.082045Z",
     "iopub.status.busy": "2023-11-04T07:28:13.081817Z",
     "iopub.status.idle": "2023-11-04T07:28:14.318981Z",
     "shell.execute_reply": "2023-11-04T07:28:14.318114Z"
    },
    "scrolled": false
   },
   "outputs": [],
   "source": [
    "encoder = get_encoder()\n",
    "decoder = get_decoder()"
   ]
  },
  {
   "cell_type": "markdown",
   "id": "5235b099",
   "metadata": {},
   "source": [
    "<a name=\"data\"></a>\n",
    "\n",
    "## Dataset\n",
    "MINST is a good fit for this simple experiment: it is categorical but also continuous."
   ]
  },
  {
   "cell_type": "code",
   "execution_count": null,
   "id": "d9e64ad3",
   "metadata": {
    "execution": {
     "iopub.execute_input": "2023-11-04T07:28:14.323168Z",
     "iopub.status.busy": "2023-11-04T07:28:14.323004Z",
     "iopub.status.idle": "2023-11-04T07:28:14.368352Z",
     "shell.execute_reply": "2023-11-04T07:28:14.367574Z"
    },
    "scrolled": false
   },
   "outputs": [],
   "source": [
    "trainset = MNIST(root='./data', train=True, download=True)\n",
    "testset  = MNIST(root='./data', train=False, download=True)"
   ]
  },
  {
   "cell_type": "code",
   "execution_count": null,
   "id": "6aab98e7",
   "metadata": {
    "execution": {
     "iopub.execute_input": "2023-11-04T07:28:14.371864Z",
     "iopub.status.busy": "2023-11-04T07:28:14.371704Z",
     "iopub.status.idle": "2023-11-04T07:28:14.375374Z",
     "shell.execute_reply": "2023-11-04T07:28:14.374467Z"
    },
    "scrolled": false
   },
   "outputs": [],
   "source": [
    "IMG_SIZE = 28\n",
    "REC_SIZE = 22"
   ]
  },
  {
   "cell_type": "markdown",
   "id": "1a152a1d",
   "metadata": {},
   "source": [
    "For the experiment we need to pick parameters: latent space size, categorical codebook size, and semantic channel capacity. Let's define the last one with the data labels (make some up):"
   ]
  },
  {
   "cell_type": "markdown",
   "id": "7d06d021",
   "metadata": {
    "execution": {
     "iopub.execute_input": "2023-11-04T07:28:14.379316Z",
     "iopub.status.busy": "2023-11-04T07:28:14.379087Z",
     "iopub.status.idle": "2023-11-04T07:28:14.383905Z",
     "shell.execute_reply": "2023-11-04T07:28:14.382641Z"
    }
   },
   "source": [
    "    # use data labels\n",
    "    SEMANTIC_DIM = 10\n",
    "    SEMANTIC_LABELS = list(range(10))\n",
    "    dataset = AEDataset"
   ]
  },
  {
   "cell_type": "code",
   "execution_count": null,
   "id": "bf03adcc",
   "metadata": {},
   "outputs": [],
   "source": [
    "    # make up some labels\n",
    "    class ContextDataset(AEDataset):\n",
    "        def __getitem__(self, idx):\n",
    "            X, Y, C = super().__getitem__(idx)\n",
    "            labels = {1:0, 4:0, 7:0, 0:1, 8:1, 2:2, 3:2, 5:2, 6:3, 9:3}\n",
    "            return X, Y, labels[C]\n",
    "\n",
    "    SEMANTIC_DIM = 4\n",
    "    SEMANTIC_LABELS = ['1,4,7','0,8','2,3,5','6,9']\n",
    "    dataset = ContextDataset"
   ]
  },
  {
   "cell_type": "code",
   "execution_count": null,
   "id": "42bef668",
   "metadata": {
    "execution": {
     "iopub.execute_input": "2023-11-04T07:28:14.388069Z",
     "iopub.status.busy": "2023-11-04T07:28:14.387033Z",
     "iopub.status.idle": "2023-11-04T07:28:14.403539Z",
     "shell.execute_reply": "2023-11-04T07:28:14.402830Z"
    },
    "scrolled": false
   },
   "outputs": [],
   "source": [
    "for demo_batch in DataLoader(dataset(testset), batch_size=16, shuffle=True):\n",
    "    X, Y, C = demo_batch\n",
    "    break\n",
    "X.shape, Y.shape, C"
   ]
  },
  {
   "cell_type": "code",
   "execution_count": null,
   "id": "75cc3304",
   "metadata": {
    "execution": {
     "iopub.execute_input": "2023-11-04T07:28:14.406941Z",
     "iopub.status.busy": "2023-11-04T07:28:14.406782Z",
     "iopub.status.idle": "2023-11-04T07:28:15.173912Z",
     "shell.execute_reply": "2023-11-04T07:28:15.173446Z"
    },
    "scrolled": false
   },
   "outputs": [],
   "source": [
    "show_inputs(demo_batch)\n",
    "show_targets(demo_batch)"
   ]
  },
  {
   "cell_type": "markdown",
   "id": "96a39b38",
   "metadata": {},
   "source": [
    "<a name=\"exp\"></a>\n",
    "\n",
    "## Experiment setup\n",
    "Let's pick configuration and run a few epochs."
   ]
  },
  {
   "cell_type": "code",
   "execution_count": null,
   "id": "a59b085b",
   "metadata": {
    "execution": {
     "iopub.execute_input": "2023-11-04T07:28:15.199044Z",
     "iopub.status.busy": "2023-11-04T07:28:15.198739Z",
     "iopub.status.idle": "2023-11-04T07:28:15.202819Z",
     "shell.execute_reply": "2023-11-04T07:28:15.201803Z"
    },
    "scrolled": false
   },
   "outputs": [],
   "source": [
    "LATENT_DIM = 3\n",
    "CATEGORICAL_DIM = 10\n",
    "\n",
    "suffix = f'{LATENT_DIM}-{CATEGORICAL_DIM}-{SEMANTIC_DIM}' # for image-save path\n",
    "\n",
    "kwargs = {\n",
    "    'encoder_semantic_dim': SEMANTIC_DIM,\n",
    "    'decoder_semantic_dim': SEMANTIC_DIM,\n",
    "    'tau': 0.1,\n",
    "    'dataset': dataset,\n",
    "    'demo_batch': demo_batch,\n",
    "    'batch_size': 16,\n",
    "    'learning_rate': 1e-5,\n",
    "    'epochs': 3,\n",
    "}\n",
    "\n",
    "index, results = [],[]"
   ]
  },
  {
   "cell_type": "markdown",
   "id": "9ac98bcd",
   "metadata": {},
   "source": [
    "<a name=\"fixed\"></a>\n",
    "\n",
    "## Fixed parameters\n",
    "In this section we use static weights for the loss components and find out how each of them affects the others.\n",
    "\n",
    "<a name=\"1\"></a>\n",
    "\n",
    "### [VAE](AE-LEGO.ipynb#vae)\n",
    "#### 1. VAE: reconstruction scaled up, no regularization\n",
    "We've got [the weight which delivers](AE-Experiments-Setup#test), let's get some visual on the latent space produced by training without regularization."
   ]
  },
  {
   "cell_type": "code",
   "execution_count": null,
   "id": "93ec3654",
   "metadata": {
    "execution": {
     "iopub.execute_input": "2023-11-04T08:20:05.504057Z",
     "iopub.status.busy": "2023-11-04T08:20:05.503817Z",
     "iopub.status.idle": "2023-11-04T08:30:33.996614Z",
     "shell.execute_reply": "2023-11-04T08:30:33.995851Z"
    },
    "scrolled": false
   },
   "outputs": [],
   "source": [
    "# run training\n",
    "tag = 'vae'\n",
    "config = {'rec-VAE':-2.}\n",
    "model, result = experiment(VAE, tag, config, LATENT_DIM, **kwargs)\n",
    "index.append(tag)\n",
    "results.append(result)"
   ]
  },
  {
   "cell_type": "code",
   "execution_count": null,
   "id": "f1b76a9c",
   "metadata": {
    "execution": {
     "iopub.execute_input": "2023-11-04T08:30:34.000721Z",
     "iopub.status.busy": "2023-11-04T08:30:34.000538Z",
     "iopub.status.idle": "2023-11-04T08:30:34.271659Z",
     "shell.execute_reply": "2023-11-04T08:30:34.270907Z"
    },
    "scrolled": false
   },
   "outputs": [],
   "source": [
    "# visual evaluation\n",
    "#show_reconstruction_map(model.decoder, f'{tag}-{suffix}')\n",
    "show_conditional_reconstruction_map(model, SEMANTIC_DIM, f'{tag}-{suffix}', SEMANTIC_LABELS)"
   ]
  },
  {
   "cell_type": "markdown",
   "id": "7daa2cb9",
   "metadata": {},
   "source": [
    "<a name=\"2\"></a>\n",
    "\n",
    "#### 2. VAE: [KL-diversion](AE-LEGO.ipynb#kld) regularization\n",
    "Let's now add regularization and compare the outcome.\n",
    "This term makes resulting distribution more $Normal$."
   ]
  },
  {
   "cell_type": "code",
   "execution_count": null,
   "id": "b080129c",
   "metadata": {
    "execution": {
     "iopub.execute_input": "2023-11-04T08:30:34.276000Z",
     "iopub.status.busy": "2023-11-04T08:30:34.275791Z",
     "iopub.status.idle": "2023-11-04T08:41:03.955562Z",
     "shell.execute_reply": "2023-11-04T08:41:03.954667Z"
    }
   },
   "outputs": [],
   "source": [
    "tag = 'vae-kld'\n",
    "config = {'rec-VAE':-2., 'KLD-Gauss':0.}\n",
    "model, result = experiment(VAE, tag, config, LATENT_DIM, **kwargs)\n",
    "index.append(tag)\n",
    "results.append(result)"
   ]
  },
  {
   "cell_type": "code",
   "execution_count": null,
   "id": "b70cb92c",
   "metadata": {
    "execution": {
     "iopub.execute_input": "2023-11-04T08:41:03.957932Z",
     "iopub.status.busy": "2023-11-04T08:41:03.957765Z",
     "iopub.status.idle": "2023-11-04T08:41:04.213895Z",
     "shell.execute_reply": "2023-11-04T08:41:04.212983Z"
    },
    "scrolled": false
   },
   "outputs": [],
   "source": [
    "#show_reconstruction_map(model.decoder, f'{tag}-{suffix}')\n",
    "show_conditional_reconstruction_map(model, SEMANTIC_DIM, f'{tag}-{suffix}', SEMANTIC_LABELS)"
   ]
  },
  {
   "cell_type": "markdown",
   "id": "0b6d388c",
   "metadata": {},
   "source": [
    "<a name=\"3\"></a>\n",
    "\n",
    "#### 3. VAE: [contrast](AE-LEGO.ipynb#contrast)\n",
    "This term we created for diagnostics the situations when representation is too general, lacks the details,  insufficiently expressive.\n",
    "If enforced strongly it could interfere with generalization. However, in the cases when the training stuck in trivial representation we would use it as regularization."
   ]
  },
  {
   "cell_type": "code",
   "execution_count": null,
   "id": "367113c9",
   "metadata": {
    "execution": {
     "iopub.execute_input": "2023-11-04T08:41:04.216745Z",
     "iopub.status.busy": "2023-11-04T08:41:04.216416Z",
     "iopub.status.idle": "2023-11-04T08:51:12.636374Z",
     "shell.execute_reply": "2023-11-04T08:51:12.635591Z"
    },
    "scrolled": false
   },
   "outputs": [],
   "source": [
    "tag = 'vae-contrast'\n",
    "config = {'rec-VAE':-2., 'Contrast-Gauss':1.}\n",
    "model, result = experiment(VAE, tag, config, LATENT_DIM, **kwargs)\n",
    "index.append(tag)\n",
    "results.append(result)"
   ]
  },
  {
   "cell_type": "code",
   "execution_count": null,
   "id": "b9010e35",
   "metadata": {
    "execution": {
     "iopub.execute_input": "2023-11-04T08:51:12.641078Z",
     "iopub.status.busy": "2023-11-04T08:51:12.640804Z",
     "iopub.status.idle": "2023-11-04T08:51:14.886016Z",
     "shell.execute_reply": "2023-11-04T08:51:14.885242Z"
    },
    "scrolled": false
   },
   "outputs": [],
   "source": [
    "#show_reconstruction_map(model.decoder, f'{tag}-{suffix}')\n",
    "show_conditional_reconstruction_map(model, SEMANTIC_DIM, f'{tag}-{suffix}', SEMANTIC_LABELS)"
   ]
  },
  {
   "cell_type": "markdown",
   "id": "6ac56354",
   "metadata": {},
   "source": [
    "<a name=\"4\"></a>\n",
    "\n",
    "#### 4. VAE: [semantic align](AE-LEGO.ipynb#align)\n",
    "This term we created for monitoring and diagnostics of a semantic-channel lineup.\n",
    "If enforced strongly it could restrict the expressiveness of the learned representation. However, in the cases when the training ignores desired conditioning we would use it as regularization."
   ]
  },
  {
   "cell_type": "code",
   "execution_count": null,
   "id": "e50acc91",
   "metadata": {},
   "outputs": [],
   "source": [
    "tag = 'vae-align'\n",
    "config = {'rec-VAE':-2., 'Align-Gauss':1.}\n",
    "model, result = experiment(VAE, tag, config, LATENT_DIM, **kwargs)\n",
    "index.append(tag)\n",
    "results.append(result)"
   ]
  },
  {
   "cell_type": "code",
   "execution_count": null,
   "id": "50161b50",
   "metadata": {
    "scrolled": false
   },
   "outputs": [],
   "source": [
    "#show_reconstruction_map(model.decoder, f'{tag}-{suffix}')\n",
    "show_conditional_reconstruction_map(model, SEMANTIC_DIM, f'{tag}-{suffix}', SEMANTIC_LABELS)"
   ]
  },
  {
   "cell_type": "markdown",
   "id": "8ecb4704",
   "metadata": {},
   "source": [
    "<a name=\"5\"></a>\n",
    "\n",
    "#### 5. VAE: all terms\n",
    "This experiment uses weighted mixture of all the terms for training."
   ]
  },
  {
   "cell_type": "code",
   "execution_count": null,
   "id": "486f816c",
   "metadata": {
    "execution": {
     "iopub.execute_input": "2023-11-04T08:51:14.890312Z",
     "iopub.status.busy": "2023-11-04T08:51:14.890118Z",
     "iopub.status.idle": "2023-11-04T09:01:29.355388Z",
     "shell.execute_reply": "2023-11-04T09:01:29.354199Z"
    },
    "scrolled": false
   },
   "outputs": [],
   "source": [
    "tag = 'vae-all'\n",
    "config = {'rec-VAE':-2., 'KLD-Gauss':0., 'Contrast-Gauss':1., 'Align-Gauss':2.}\n",
    "model, result = experiment(VAE, tag, config, LATENT_DIM, **kwargs)\n",
    "index.append(tag)\n",
    "results.append(result)"
   ]
  },
  {
   "cell_type": "code",
   "execution_count": null,
   "id": "02cfc825",
   "metadata": {
    "execution": {
     "iopub.execute_input": "2023-11-04T09:01:29.360057Z",
     "iopub.status.busy": "2023-11-04T09:01:29.359782Z",
     "iopub.status.idle": "2023-11-04T09:01:29.622918Z",
     "shell.execute_reply": "2023-11-04T09:01:29.622010Z"
    },
    "scrolled": false
   },
   "outputs": [],
   "source": [
    "vectors, labels = get_embeddings(model.encoder, dataset(trainset), f'{tag}-{suffix}')\n",
    "show_latent_space(vectors, labels, f'{tag}-{suffix}')\n",
    "show_reconstruction_map(model.decoder, f'{tag}-{suffix}')\n",
    "show_conditional_reconstruction_map(model, SEMANTIC_DIM, f'{tag}-{suffix}', SEMANTIC_LABELS)"
   ]
  },
  {
   "cell_type": "markdown",
   "id": "857dba47",
   "metadata": {
    "scrolled": false
   },
   "source": [
    "<a name=\"6\"></a>\n",
    "\n",
    "### [Discrete VAE](AE-LEGO.ipynb#dvae)\n",
    "Same as above, let's check each component separately.\n",
    "\n",
    "#### 6. DVAE: reconstruction scaled up, no regularization"
   ]
  },
  {
   "cell_type": "code",
   "execution_count": null,
   "id": "7bf18dbb",
   "metadata": {
    "execution": {
     "iopub.execute_input": "2023-11-04T09:54:09.363275Z",
     "iopub.status.busy": "2023-11-04T09:54:09.363008Z",
     "iopub.status.idle": "2023-11-04T10:04:42.974005Z",
     "shell.execute_reply": "2023-11-04T10:04:42.972901Z"
    },
    "scrolled": false
   },
   "outputs": [],
   "source": [
    "tag = 'dvae'\n",
    "config = {'rec-DVAE':-2.}\n",
    "model, result = experiment(DVAE, tag, config, LATENT_DIM, CATEGORICAL_DIM, **kwargs)\n",
    "index.append(tag)\n",
    "results.append(result)"
   ]
  },
  {
   "cell_type": "code",
   "execution_count": null,
   "id": "89f9d880",
   "metadata": {
    "execution": {
     "iopub.execute_input": "2023-11-04T10:04:42.978727Z",
     "iopub.status.busy": "2023-11-04T10:04:42.978453Z",
     "iopub.status.idle": "2023-11-04T10:04:43.394707Z",
     "shell.execute_reply": "2023-11-04T10:04:43.393764Z"
    },
    "scrolled": false
   },
   "outputs": [],
   "source": [
    "show_categoric_reconstruction_map(model.decoder, LATENT_DIM, CATEGORICAL_DIM, f'{tag}-{suffix}')\n",
    "show_conditional_reconstruction_map(model, SEMANTIC_DIM, f'{tag}-{suffix}', SEMANTIC_LABELS)"
   ]
  },
  {
   "cell_type": "markdown",
   "id": "61ebfac3",
   "metadata": {},
   "source": [
    "<a name=\"7\"></a>\n",
    "\n",
    "#### 7. DVAE: [KL-diversion](AE-LEGO.ipynb#kld-dvae) regularization"
   ]
  },
  {
   "cell_type": "code",
   "execution_count": null,
   "id": "2d4f0d88",
   "metadata": {
    "execution": {
     "iopub.execute_input": "2023-11-04T10:04:43.399195Z",
     "iopub.status.busy": "2023-11-04T10:04:43.398947Z",
     "iopub.status.idle": "2023-11-04T10:15:19.143218Z",
     "shell.execute_reply": "2023-11-04T10:15:19.142026Z"
    },
    "scrolled": false
   },
   "outputs": [],
   "source": [
    "tag = 'dvae-kld'\n",
    "config = {'rec-DVAE':-2., 'KLD-Gumbel':0.}\n",
    "model, result = experiment(DVAE, tag, config, LATENT_DIM, CATEGORICAL_DIM, **kwargs)\n",
    "index.append(tag)\n",
    "results.append(result)"
   ]
  },
  {
   "cell_type": "code",
   "execution_count": null,
   "id": "4b34e5e2",
   "metadata": {
    "execution": {
     "iopub.execute_input": "2023-11-04T10:15:19.147838Z",
     "iopub.status.busy": "2023-11-04T10:15:19.147564Z",
     "iopub.status.idle": "2023-11-04T10:15:19.574324Z",
     "shell.execute_reply": "2023-11-04T10:15:19.573477Z"
    },
    "scrolled": false
   },
   "outputs": [],
   "source": [
    "show_categoric_reconstruction_map(model.decoder, LATENT_DIM, CATEGORICAL_DIM, f'{tag}-{suffix}')\n",
    "show_conditional_reconstruction_map(model, SEMANTIC_DIM, f'{tag}-{suffix}', SEMANTIC_LABELS)"
   ]
  },
  {
   "cell_type": "markdown",
   "id": "763be5ad",
   "metadata": {},
   "source": [
    "<a name=\"8\"></a>\n",
    "\n",
    "#### 8. DVAE: [contrast](AE-LEGO.ipynb#contrast)"
   ]
  },
  {
   "cell_type": "code",
   "execution_count": null,
   "id": "a7e3917b",
   "metadata": {
    "execution": {
     "iopub.execute_input": "2023-11-04T10:15:19.578703Z",
     "iopub.status.busy": "2023-11-04T10:15:19.578434Z",
     "iopub.status.idle": "2023-11-04T10:25:30.705499Z",
     "shell.execute_reply": "2023-11-04T10:25:30.704401Z"
    },
    "scrolled": false
   },
   "outputs": [],
   "source": [
    "tag = 'dvae-contrast'\n",
    "config = {'rec-DVAE':-2., 'Contrast-Gumbel':1.}\n",
    "model, result = experiment(DVAE, tag, config, LATENT_DIM, CATEGORICAL_DIM, **kwargs)\n",
    "index.append(tag)\n",
    "results.append(result)"
   ]
  },
  {
   "cell_type": "code",
   "execution_count": null,
   "id": "a672f420",
   "metadata": {
    "execution": {
     "iopub.execute_input": "2023-11-04T10:25:30.709778Z",
     "iopub.status.busy": "2023-11-04T10:25:30.709601Z",
     "iopub.status.idle": "2023-11-04T10:25:31.141830Z",
     "shell.execute_reply": "2023-11-04T10:25:31.140914Z"
    },
    "scrolled": false
   },
   "outputs": [],
   "source": [
    "show_categoric_reconstruction_map(model.decoder, LATENT_DIM, CATEGORICAL_DIM, f'{tag}-{suffix}')\n",
    "show_conditional_reconstruction_map(model, SEMANTIC_DIM, f'{tag}-{suffix}', SEMANTIC_LABELS)"
   ]
  },
  {
   "cell_type": "markdown",
   "id": "8face98c",
   "metadata": {},
   "source": [
    "<a name=\"9\"></a>\n",
    "\n",
    "#### 9. DVAE: [semantic align](AE-LEGO.ipynb#align)"
   ]
  },
  {
   "cell_type": "code",
   "execution_count": null,
   "id": "26b78fb8",
   "metadata": {},
   "outputs": [],
   "source": [
    "tag = 'dvae-align'\n",
    "config = {'rec-DVAE':-2., 'Align-Gumbel':1.}\n",
    "model, result = experiment(DVAE, tag, config, LATENT_DIM, CATEGORICAL_DIM, **kwargs)\n",
    "index.append(tag)\n",
    "results.append(result)"
   ]
  },
  {
   "cell_type": "code",
   "execution_count": null,
   "id": "23642768",
   "metadata": {},
   "outputs": [],
   "source": [
    "show_categoric_reconstruction_map(model.decoder, LATENT_DIM, CATEGORICAL_DIM, f'{tag}-{suffix}')\n",
    "show_conditional_reconstruction_map(model, SEMANTIC_DIM, f'{tag}-{suffix}', SEMANTIC_LABELS)"
   ]
  },
  {
   "cell_type": "markdown",
   "id": "668bbc7d",
   "metadata": {},
   "source": [
    "<a name=\"10\"></a>\n",
    "\n",
    "#### 10. DVAE: all terms"
   ]
  },
  {
   "cell_type": "code",
   "execution_count": null,
   "id": "22d32a26",
   "metadata": {
    "execution": {
     "iopub.execute_input": "2023-11-04T10:25:31.146542Z",
     "iopub.status.busy": "2023-11-04T10:25:31.146126Z",
     "iopub.status.idle": "2023-11-04T10:35:43.076986Z",
     "shell.execute_reply": "2023-11-04T10:35:43.076095Z"
    },
    "scrolled": false
   },
   "outputs": [],
   "source": [
    "tag = 'dvae-all'\n",
    "config = {'rec-DVAE':-2., 'KLD-Gumbel':1., 'Contrast-Gumbel':1., 'Align-Gumbel':2.}\n",
    "model, result = experiment(DVAE, tag, config, LATENT_DIM, CATEGORICAL_DIM, **kwargs)\n",
    "index.append(tag)\n",
    "results.append(result)"
   ]
  },
  {
   "cell_type": "code",
   "execution_count": null,
   "id": "a47521e5",
   "metadata": {
    "execution": {
     "iopub.execute_input": "2023-11-04T10:35:43.081748Z",
     "iopub.status.busy": "2023-11-04T10:35:43.081483Z",
     "iopub.status.idle": "2023-11-04T10:35:43.760019Z",
     "shell.execute_reply": "2023-11-04T10:35:43.759507Z"
    },
    "scrolled": false
   },
   "outputs": [],
   "source": [
    "show_categoric_reconstruction_map(model.decoder, LATENT_DIM, CATEGORICAL_DIM, f'{tag}-{suffix}')\n",
    "show_conditional_reconstruction_map(model, SEMANTIC_DIM, f'{tag}-{suffix}', SEMANTIC_LABELS)"
   ]
  },
  {
   "cell_type": "markdown",
   "id": "5f599790",
   "metadata": {},
   "source": [
    "<a name=\"siam\"></a>\n",
    "\n",
    "## Siamese\n",
    "In this section we train our multi-headed beasts. We want to find out if this interaction (heads share weights) could have regularizing or stabilizing effect of the training.\n",
    "\n",
    "<a name=\"11\"></a>\n",
    "\n",
    "### [Twin-VAE](AE-LEGO.ipynb#twin)\n",
    "Two different variational encoders share a visual features extractor and top visual decoder weights: the only difference is their the adapter-layers and respective latent spaces, one continuous and one quantized.\n",
    "\n",
    "#### 11. Twin-VAE: no regularization"
   ]
  },
  {
   "cell_type": "code",
   "execution_count": null,
   "id": "044c5da2",
   "metadata": {
    "execution": {
     "iopub.execute_input": "2023-11-04T10:35:43.765266Z",
     "iopub.status.busy": "2023-11-04T10:35:43.765071Z",
     "iopub.status.idle": "2023-11-04T10:52:11.225159Z",
     "shell.execute_reply": "2023-11-04T10:52:11.224132Z"
    },
    "scrolled": false
   },
   "outputs": [],
   "source": [
    "tag = 'twinvae'\n",
    "config = {'rec-VAE':-2., 'rec-DVAE':-2.}\n",
    "model, result = experiment(TwinVAE, tag, config, LATENT_DIM, CATEGORICAL_DIM, **kwargs)\n",
    "index.append(tag)\n",
    "results.append(result)"
   ]
  },
  {
   "cell_type": "code",
   "execution_count": null,
   "id": "185c63f7",
   "metadata": {
    "execution": {
     "iopub.execute_input": "2023-11-04T10:52:11.230271Z",
     "iopub.status.busy": "2023-11-04T10:52:11.229997Z",
     "iopub.status.idle": "2023-11-04T10:52:11.920759Z",
     "shell.execute_reply": "2023-11-04T10:52:11.919930Z"
    },
    "scrolled": false
   },
   "outputs": [],
   "source": [
    "#show_reconstruction_map(model.vae.decoder, f'{tag}-{suffix}')\n",
    "show_categoric_reconstruction_map(model.dvae.decoder, LATENT_DIM, CATEGORICAL_DIM, f'{tag}-{suffix}')\n",
    "show_conditional_reconstruction_map(model, SEMANTIC_DIM, f'{tag}-{suffix}-q', SEMANTIC_LABELS, categorical=True)\n",
    "show_conditional_reconstruction_map(model, SEMANTIC_DIM, f'{tag}-{suffix}-z', SEMANTIC_LABELS, categorical=False)"
   ]
  },
  {
   "cell_type": "markdown",
   "id": "0d8823b6",
   "metadata": {},
   "source": [
    "<a name=\"12\"></a>\n",
    "<h4>12. Twin-VAE: regularized</h4>"
   ]
  },
  {
   "cell_type": "code",
   "execution_count": null,
   "id": "9bf4e692",
   "metadata": {
    "execution": {
     "iopub.execute_input": "2023-11-04T10:52:11.925365Z",
     "iopub.status.busy": "2023-11-04T10:52:11.925114Z",
     "iopub.status.idle": "2023-11-04T11:08:45.941853Z",
     "shell.execute_reply": "2023-11-04T11:08:45.940980Z"
    },
    "scrolled": false
   },
   "outputs": [],
   "source": [
    "tag = 'twinvae-all'\n",
    "config = {'rec-VAE':-2., 'KLD-Gauss':0., 'Contrast-Gauss':0., 'Align-Gauss':2.,\n",
    "          'rec-DVAE':-2., 'KLD-Gumbel':1., 'Contrast-Gumbel':1., 'Align-Gumbel':3.}\n",
    "model, result = experiment(TwinVAE, tag, config, LATENT_DIM, CATEGORICAL_DIM, **kwargs)\n",
    "index.append(tag)\n",
    "results.append(result)"
   ]
  },
  {
   "cell_type": "code",
   "execution_count": null,
   "id": "c424c8c0",
   "metadata": {
    "execution": {
     "iopub.execute_input": "2023-11-04T11:08:45.945415Z",
     "iopub.status.busy": "2023-11-04T11:08:45.945231Z",
     "iopub.status.idle": "2023-11-04T11:08:46.656060Z",
     "shell.execute_reply": "2023-11-04T11:08:46.655546Z"
    },
    "scrolled": false
   },
   "outputs": [],
   "source": [
    "#show_reconstruction_map(model.vae.decoder, f'{tag}-{suffix}')\n",
    "show_categoric_reconstruction_map(model.dvae.decoder, LATENT_DIM, CATEGORICAL_DIM, f'{tag}-{suffix}')\n",
    "show_conditional_reconstruction_map(model, SEMANTIC_DIM, f'{tag}-{suffix}-q', SEMANTIC_LABELS, categorical=True)\n",
    "show_conditional_reconstruction_map(model, SEMANTIC_DIM, f'{tag}-{suffix}-z', SEMANTIC_LABELS, categorical=False)"
   ]
  },
  {
   "cell_type": "markdown",
   "id": "3a4840af",
   "metadata": {},
   "source": [
    "<a name=\"13\"></a>\n",
    "\n",
    "### [Hydra-VAE](AE-LEGO.ipynb#hydra)\n",
    "VAE conjoined with a vanilla auto-encoder share a visual features extractor and a visual decoder weights might help in situation like posterior collapse.\n",
    "\n",
    "<h4>13. Hydra-VAE: no regularization</h4>"
   ]
  },
  {
   "cell_type": "code",
   "execution_count": null,
   "id": "c99a3a71",
   "metadata": {
    "execution": {
     "iopub.execute_input": "2023-11-04T11:08:46.660937Z",
     "iopub.status.busy": "2023-11-04T11:08:46.660747Z",
     "iopub.status.idle": "2023-11-04T11:24:33.702629Z",
     "shell.execute_reply": "2023-11-04T11:24:33.701845Z"
    },
    "scrolled": false
   },
   "outputs": [],
   "source": [
    "tag = 'hydra-vae'\n",
    "config = {'rec-AE':-2., 'rec-VAE':-2.}\n",
    "model, result = experiment(HydraVAE, tag, config, LATENT_DIM, **kwargs)\n",
    "index.append(tag)\n",
    "results.append(result)"
   ]
  },
  {
   "cell_type": "code",
   "execution_count": null,
   "id": "86acc763",
   "metadata": {
    "execution": {
     "iopub.execute_input": "2023-11-04T11:24:33.706424Z",
     "iopub.status.busy": "2023-11-04T11:24:33.706153Z",
     "iopub.status.idle": "2023-11-04T11:24:33.975054Z",
     "shell.execute_reply": "2023-11-04T11:24:33.974533Z"
    },
    "scrolled": false
   },
   "outputs": [],
   "source": [
    "#show_reconstruction_map(model.zdecoder, f'{tag}-{suffix}')\n",
    "show_conditional_reconstruction_map(model, SEMANTIC_DIM, f'{tag}-{suffix}', SEMANTIC_LABELS)"
   ]
  },
  {
   "cell_type": "markdown",
   "id": "2528b06c",
   "metadata": {},
   "source": [
    "<a name=\"14\"></a>\n",
    "<h4>14. Hydra-VAE: regularized</h4>"
   ]
  },
  {
   "cell_type": "code",
   "execution_count": null,
   "id": "0232ff50",
   "metadata": {
    "execution": {
     "iopub.execute_input": "2023-11-04T11:24:33.979646Z",
     "iopub.status.busy": "2023-11-04T11:24:33.979405Z",
     "iopub.status.idle": "2023-11-04T11:40:32.767559Z",
     "shell.execute_reply": "2023-11-04T11:40:32.766611Z"
    },
    "scrolled": false
   },
   "outputs": [],
   "source": [
    "tag = 'hydra-vae-all'\n",
    "config = {'rec-AE':-2., 'rec-VAE':-2., 'KLD-Gauss':0., 'Contrast-Gauss':0., 'Align-Gauss':2.}\n",
    "model, result = experiment(HydraVAE, tag, config, LATENT_DIM, **kwargs)\n",
    "index.append(tag)\n",
    "results.append(result)"
   ]
  },
  {
   "cell_type": "code",
   "execution_count": null,
   "id": "75b5d5cc",
   "metadata": {
    "execution": {
     "iopub.execute_input": "2023-11-04T11:40:32.772073Z",
     "iopub.status.busy": "2023-11-04T11:40:32.771793Z",
     "iopub.status.idle": "2023-11-04T11:40:33.047504Z",
     "shell.execute_reply": "2023-11-04T11:40:33.046662Z"
    },
    "scrolled": false
   },
   "outputs": [],
   "source": [
    "#show_reconstruction_map(model.zdecoder, f'{tag}-{suffix}')\n",
    "show_conditional_reconstruction_map(model, SEMANTIC_DIM, f'{tag}-{suffix}', SEMANTIC_LABELS)"
   ]
  },
  {
   "cell_type": "markdown",
   "id": "9adbfc3b",
   "metadata": {},
   "source": [
    "<a name=\"15\"></a>\n",
    "<h4>15. Hydra-DVAE: no regularization</h4>"
   ]
  },
  {
   "cell_type": "code",
   "execution_count": null,
   "id": "64896b09",
   "metadata": {
    "execution": {
     "iopub.execute_input": "2023-11-04T11:40:33.052049Z",
     "iopub.status.busy": "2023-11-04T11:40:33.051872Z",
     "iopub.status.idle": "2023-11-04T11:56:27.832999Z",
     "shell.execute_reply": "2023-11-04T11:56:27.832196Z"
    },
    "scrolled": false
   },
   "outputs": [],
   "source": [
    "tag = 'hydra-dvae'\n",
    "config = {'rec-AE':-2., 'rec-DVAE':-2.}\n",
    "model, result = experiment(HydraVAE, tag, config, LATENT_DIM, CATEGORICAL_DIM, **kwargs)\n",
    "index.append(tag)\n",
    "results.append(result)"
   ]
  },
  {
   "cell_type": "code",
   "execution_count": null,
   "id": "50df651a",
   "metadata": {
    "execution": {
     "iopub.execute_input": "2023-11-04T11:56:27.837747Z",
     "iopub.status.busy": "2023-11-04T11:56:27.837395Z",
     "iopub.status.idle": "2023-11-04T11:56:28.255691Z",
     "shell.execute_reply": "2023-11-04T11:56:28.254932Z"
    },
    "scrolled": false
   },
   "outputs": [],
   "source": [
    "show_categoric_reconstruction_map(model.dvae.decoder, LATENT_DIM, CATEGORICAL_DIM, f'{tag}-{suffix}')\n",
    "show_conditional_reconstruction_map(model, SEMANTIC_DIM, f'{tag}-{suffix}', SEMANTIC_LABELS)"
   ]
  },
  {
   "cell_type": "markdown",
   "id": "64fc542f",
   "metadata": {},
   "source": [
    "<a name=\"16\"></a>\n",
    "<h4>16. Hydra-DVAE: regularized</h4>"
   ]
  },
  {
   "cell_type": "code",
   "execution_count": null,
   "id": "9f2f2e44",
   "metadata": {
    "execution": {
     "iopub.execute_input": "2023-11-04T11:56:28.261171Z",
     "iopub.status.busy": "2023-11-04T11:56:28.260825Z",
     "iopub.status.idle": "2023-11-04T12:12:32.716381Z",
     "shell.execute_reply": "2023-11-04T12:12:32.715370Z"
    },
    "scrolled": false
   },
   "outputs": [],
   "source": [
    "tag = 'hydra-dvae-all'\n",
    "config = {'rec-AE':-2., 'rec-DVAE':-2., 'KLD-Gumbel':1., 'Contrast-Gumbel':1., 'Align-Gumbel':3.}\n",
    "model, result = experiment(HydraVAE, tag, config, LATENT_DIM, CATEGORICAL_DIM, **kwargs)\n",
    "index.append(tag)\n",
    "results.append(result)"
   ]
  },
  {
   "cell_type": "code",
   "execution_count": null,
   "id": "074e348c",
   "metadata": {
    "execution": {
     "iopub.execute_input": "2023-11-04T12:12:32.720567Z",
     "iopub.status.busy": "2023-11-04T12:12:32.720399Z",
     "iopub.status.idle": "2023-11-04T12:12:33.150560Z",
     "shell.execute_reply": "2023-11-04T12:12:33.149647Z"
    },
    "scrolled": false
   },
   "outputs": [],
   "source": [
    "show_categoric_reconstruction_map(model.dvae.decoder, LATENT_DIM, CATEGORICAL_DIM, f'{tag}-{suffix}')\n",
    "show_conditional_reconstruction_map(model, SEMANTIC_DIM, f'{tag}-{suffix}', SEMANTIC_LABELS)"
   ]
  },
  {
   "cell_type": "markdown",
   "id": "239daa45",
   "metadata": {},
   "source": [
    "<a name=\"train\"></a>\n",
    "\n",
    "## Trainable balance\n",
    "In this section we initialize a trainable weighted mixture of all the terms and let them balance each other.\n",
    "This won't result in the model learning the optimal setup, this will hint the right initiation value (`config`)  and the problems if exist.\n",
    "\n",
    "<a name=\"17\"></a>\n",
    "<h4>17. VAE</h4>"
   ]
  },
  {
   "cell_type": "code",
   "execution_count": null,
   "id": "8ae75776",
   "metadata": {
    "execution": {
     "iopub.execute_input": "2023-11-04T12:12:33.154867Z",
     "iopub.status.busy": "2023-11-04T12:12:33.154694Z",
     "iopub.status.idle": "2023-11-04T12:22:49.345390Z",
     "shell.execute_reply": "2023-11-04T12:22:49.344194Z"
    },
    "scrolled": false
   },
   "outputs": [],
   "source": [
    "tag = 'vae-trained'\n",
    "config = {'rec-VAE':-2., 'KLD-Gauss':-1., 'Contrast-Gauss':0., 'Align-Gauss':2.}\n",
    "model, result = experiment(VAE, tag, config, LATENT_DIM, trainable=True, **kwargs)\n",
    "index.append(tag)\n",
    "results.append(result)"
   ]
  },
  {
   "cell_type": "code",
   "execution_count": null,
   "id": "2be9c12b",
   "metadata": {
    "execution": {
     "iopub.execute_input": "2023-11-04T12:22:49.350063Z",
     "iopub.status.busy": "2023-11-04T12:22:49.349789Z",
     "iopub.status.idle": "2023-11-04T12:22:49.617874Z",
     "shell.execute_reply": "2023-11-04T12:22:49.617282Z"
    },
    "scrolled": false
   },
   "outputs": [],
   "source": [
    "#show_reconstruction_map(model.decoder, f'{tag}-{suffix}')\n",
    "show_conditional_reconstruction_map(model, SEMANTIC_DIM, f'{tag}-{suffix}', SEMANTIC_LABELS)"
   ]
  },
  {
   "cell_type": "markdown",
   "id": "da069bf0",
   "metadata": {},
   "source": [
    "<a name=\"18\"></a>\n",
    "<h4>18. DVAE</h4>"
   ]
  },
  {
   "cell_type": "code",
   "execution_count": null,
   "id": "16dcbbc7",
   "metadata": {
    "execution": {
     "iopub.execute_input": "2023-11-04T12:22:49.622806Z",
     "iopub.status.busy": "2023-11-04T12:22:49.622621Z",
     "iopub.status.idle": "2023-11-04T12:33:01.178772Z",
     "shell.execute_reply": "2023-11-04T12:33:01.177433Z"
    },
    "scrolled": false
   },
   "outputs": [],
   "source": [
    "tag = 'dvae-trained'\n",
    "config = {'rec-DVAE':-2., 'KLD-Gumbel':0., 'Contrast-Gumbel':2., 'Align-Gumbel':1.}\n",
    "model, result = experiment(DVAE, tag, config, LATENT_DIM, CATEGORICAL_DIM, trainable=True, **kwargs)\n",
    "index.append(tag)\n",
    "results.append(result)"
   ]
  },
  {
   "cell_type": "code",
   "execution_count": null,
   "id": "112e9e24",
   "metadata": {
    "execution": {
     "iopub.execute_input": "2023-11-04T12:33:01.183551Z",
     "iopub.status.busy": "2023-11-04T12:33:01.183379Z",
     "iopub.status.idle": "2023-11-04T12:33:01.622369Z",
     "shell.execute_reply": "2023-11-04T12:33:01.621538Z"
    },
    "scrolled": false
   },
   "outputs": [],
   "source": [
    "show_categoric_reconstruction_map(model.decoder, LATENT_DIM, CATEGORICAL_DIM, f'{tag}-{suffix}')\n",
    "show_conditional_reconstruction_map(model, SEMANTIC_DIM, f'{tag}-{suffix}', SEMANTIC_LABELS)"
   ]
  },
  {
   "cell_type": "markdown",
   "id": "6d784892",
   "metadata": {},
   "source": [
    "<a name=\"19\"></a>\n",
    "<h4>19. Twin-VAE</h4>"
   ]
  },
  {
   "cell_type": "code",
   "execution_count": null,
   "id": "9ad0f168",
   "metadata": {
    "execution": {
     "iopub.execute_input": "2023-11-04T12:33:01.626840Z",
     "iopub.status.busy": "2023-11-04T12:33:01.626666Z",
     "iopub.status.idle": "2023-11-04T12:49:36.136339Z",
     "shell.execute_reply": "2023-11-04T12:49:36.135264Z"
    },
    "scrolled": false
   },
   "outputs": [],
   "source": [
    "tag = 'twinvae-trained'\n",
    "config = {'rec-VAE':-2., 'KLD-Gauss':-1., 'Contrast-Gauss':0., 'Align-Gauss':2.,\n",
    "          'rec-DVAE':-2., 'KLD-Gumbel':0., 'Contrast-Gumbel':1., 'Align-Gumbel':2.}\n",
    "model, result = experiment(TwinVAE, tag, config, LATENT_DIM, CATEGORICAL_DIM, trainable=True, **kwargs)\n",
    "index.append(tag)\n",
    "results.append(result)"
   ]
  },
  {
   "cell_type": "code",
   "execution_count": null,
   "id": "57025230",
   "metadata": {
    "execution": {
     "iopub.execute_input": "2023-11-04T12:49:36.141569Z",
     "iopub.status.busy": "2023-11-04T12:49:36.141036Z",
     "iopub.status.idle": "2023-11-04T12:49:36.845572Z",
     "shell.execute_reply": "2023-11-04T12:49:36.844661Z"
    },
    "scrolled": false
   },
   "outputs": [],
   "source": [
    "#show_reconstruction_map(model.vae.decoder, f'{tag}-{suffix}')\n",
    "show_categoric_reconstruction_map(model.dvae.decoder, LATENT_DIM, CATEGORICAL_DIM, f'{tag}-{suffix}')\n",
    "show_conditional_reconstruction_map(model, SEMANTIC_DIM, f'{tag}-{suffix}-q', SEMANTIC_LABELS, categorical=True)\n",
    "show_conditional_reconstruction_map(model, SEMANTIC_DIM, f'{tag}-{suffix}-z', SEMANTIC_LABELS, categorical=False)"
   ]
  },
  {
   "cell_type": "markdown",
   "id": "b1522dad",
   "metadata": {},
   "source": [
    "<a name=\"20\"></a>\n",
    "<h4>20. Hydra-VAE</h4>"
   ]
  },
  {
   "cell_type": "code",
   "execution_count": null,
   "id": "a804221f",
   "metadata": {
    "execution": {
     "iopub.execute_input": "2023-11-04T12:49:36.849891Z",
     "iopub.status.busy": "2023-11-04T12:49:36.849700Z",
     "iopub.status.idle": "2023-11-04T13:05:38.777720Z",
     "shell.execute_reply": "2023-11-04T13:05:38.777171Z"
    },
    "scrolled": false
   },
   "outputs": [],
   "source": [
    "tag = 'hydra-vae-trained'\n",
    "config = {'rec-AE':-2., 'rec-VAE':-2., 'KLD-Gauss':-1., 'Contrast-Gauss':0., 'Align-Gauss':2.}\n",
    "model, result = experiment(HydraVAE, tag, config, LATENT_DIM, trainable=True, **kwargs)\n",
    "index.append(tag)\n",
    "results.append(result)"
   ]
  },
  {
   "cell_type": "code",
   "execution_count": null,
   "id": "0f5afc3c",
   "metadata": {
    "execution": {
     "iopub.execute_input": "2023-11-04T13:05:38.782969Z",
     "iopub.status.busy": "2023-11-04T13:05:38.782721Z",
     "iopub.status.idle": "2023-11-04T13:05:39.049396Z",
     "shell.execute_reply": "2023-11-04T13:05:39.048840Z"
    },
    "scrolled": false
   },
   "outputs": [],
   "source": [
    "#show_reconstruction_map(model.vae.decoder, f'{tag}-{suffix}')\n",
    "show_conditional_reconstruction_map(model, SEMANTIC_DIM, f'{tag}-{suffix}', SEMANTIC_LABELS)"
   ]
  },
  {
   "cell_type": "markdown",
   "id": "636ea0a8",
   "metadata": {},
   "source": [
    "<a name=\"21\"></a>\n",
    "<h4>21. Hydra-DVAE</h4>"
   ]
  },
  {
   "cell_type": "code",
   "execution_count": null,
   "id": "24db5a48",
   "metadata": {
    "execution": {
     "iopub.execute_input": "2023-11-04T13:05:39.054404Z",
     "iopub.status.busy": "2023-11-04T13:05:39.054145Z",
     "iopub.status.idle": "2023-11-04T13:21:59.521368Z",
     "shell.execute_reply": "2023-11-04T13:21:59.520361Z"
    },
    "scrolled": false
   },
   "outputs": [],
   "source": [
    "tag = 'hydra-dvae-trained'\n",
    "config = {'rec-AE':-2., 'rec-DVAE':-2., 'KLD-Gumbel':0., 'Contrast-Gumbel':1., 'Align-Gumbel':1.}\n",
    "model, result = experiment(HydraVAE, tag, config, LATENT_DIM, CATEGORICAL_DIM, trainable=True, **kwargs)\n",
    "index.append(tag)\n",
    "results.append(result)"
   ]
  },
  {
   "cell_type": "code",
   "execution_count": null,
   "id": "0e87f471",
   "metadata": {
    "execution": {
     "iopub.execute_input": "2023-11-04T13:21:59.525437Z",
     "iopub.status.busy": "2023-11-04T13:21:59.525096Z",
     "iopub.status.idle": "2023-11-04T13:21:59.949898Z",
     "shell.execute_reply": "2023-11-04T13:21:59.949068Z"
    },
    "scrolled": false
   },
   "outputs": [],
   "source": [
    "show_categoric_reconstruction_map(model.dvae.decoder, LATENT_DIM, CATEGORICAL_DIM, f'{tag}-{suffix}')\n",
    "show_conditional_reconstruction_map(model, SEMANTIC_DIM, f'{tag}-{suffix}', SEMANTIC_LABELS)"
   ]
  },
  {
   "cell_type": "markdown",
   "id": "f5b952c8",
   "metadata": {},
   "source": [
    "<a name=\"res\"></a>\n",
    "<h2>Compare results</h2>"
   ]
  },
  {
   "cell_type": "code",
   "execution_count": null,
   "id": "82d8a1f3",
   "metadata": {},
   "outputs": [],
   "source": [
    "results = pd.DataFrame.from_dict(results)\n",
    "results.index = index\n",
    "results.to_csv(f'./output/mnist-{tag}-{suffix}.csv')\n",
    "results.sort_values(['KLD-Gauss','KLD-Gumbel']).style.background_gradient('Reds', axis=0)"
   ]
  },
  {
   "cell_type": "code",
   "execution_count": null,
   "id": "8105c34d",
   "metadata": {},
   "outputs": [],
   "source": []
  }
 ],
 "metadata": {
  "kernelspec": {
   "display_name": "Python 3 (ipykernel)",
   "language": "python",
   "name": "python3"
  },
  "language_info": {
   "codemirror_mode": {
    "name": "ipython",
    "version": 3
   },
   "file_extension": ".py",
   "mimetype": "text/x-python",
   "name": "python",
   "nbconvert_exporter": "python",
   "pygments_lexer": "ipython3",
   "version": "3.10.12"
  }
 },
 "nbformat": 4,
 "nbformat_minor": 5
}
